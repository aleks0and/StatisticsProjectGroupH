{
 "cells": [
  {
   "cell_type": "markdown",
   "metadata": {},
   "source": [
    "### ASSIGNMENT 4"
   ]
  },
  {
   "cell_type": "code",
   "execution_count": 4,
   "metadata": {},
   "outputs": [],
   "source": [
    "# importing used libraries\n",
    "import numpy as np\n",
    "import pandas as pdskplt.metrics.plot_ks_statistic(df['Wine_strength'], pred.T)\n",
    "import statsmodels.api as sm\n",
    "import matplotlib.pyplot as plt\n",
    "from sklearn.decomposition import PCA"
   ]
  },
  {
   "cell_type": "markdown",
   "metadata": {},
   "source": [
    "## 1) Linear Regression"
   ]
  },
  {
   "cell_type": "code",
   "execution_count": 5,
   "metadata": {},
   "outputs": [
    {
     "data": {
      "text/html": [
       "<div>\n",
       "<style scoped>\n",
       "    .dataframe tbody tr th:only-of-type {\n",
       "        vertical-align: middle;\n",
       "    }\n",
       "\n",
       "    .dataframe tbody tr th {\n",
       "        vertical-align: top;\n",
       "    }\n",
       "\n",
       "    .dataframe thead th {\n",
       "        text-align: right;\n",
       "    }\n",
       "</style>\n",
       "<table border=\"1\" class=\"dataframe\">\n",
       "  <thead>\n",
       "    <tr style=\"text-align: right;\">\n",
       "      <th></th>\n",
       "      <th>Alcohol</th>\n",
       "      <th>Malic_Acid</th>\n",
       "      <th>Ash</th>\n",
       "      <th>Ash_Alcanity</th>\n",
       "      <th>Magnesium</th>\n",
       "      <th>Total_Phenols</th>\n",
       "      <th>Flavanoids</th>\n",
       "      <th>Nonflavanoid_Phenols</th>\n",
       "      <th>Proanthocyanins</th>\n",
       "      <th>Color_Intensity</th>\n",
       "      <th>Hue</th>\n",
       "      <th>OD280</th>\n",
       "      <th>Proline</th>\n",
       "      <th>Customer_Segment</th>\n",
       "    </tr>\n",
       "  </thead>\n",
       "  <tbody>\n",
       "    <tr>\n",
       "      <th>0</th>\n",
       "      <td>14.23</td>\n",
       "      <td>1.71</td>\n",
       "      <td>2.43</td>\n",
       "      <td>15.6</td>\n",
       "      <td>127</td>\n",
       "      <td>2.80</td>\n",
       "      <td>3.06</td>\n",
       "      <td>0.28</td>\n",
       "      <td>2.29</td>\n",
       "      <td>5.64</td>\n",
       "      <td>1.04</td>\n",
       "      <td>3.92</td>\n",
       "      <td>1065</td>\n",
       "      <td>1</td>\n",
       "    </tr>\n",
       "    <tr>\n",
       "      <th>1</th>\n",
       "      <td>13.20</td>\n",
       "      <td>1.78</td>\n",
       "      <td>2.14</td>\n",
       "      <td>11.2</td>\n",
       "      <td>100</td>\n",
       "      <td>2.65</td>\n",
       "      <td>2.76</td>\n",
       "      <td>0.26</td>\n",
       "      <td>1.28</td>\n",
       "      <td>4.38</td>\n",
       "      <td>1.05</td>\n",
       "      <td>3.40</td>\n",
       "      <td>1050</td>\n",
       "      <td>1</td>\n",
       "    </tr>\n",
       "    <tr>\n",
       "      <th>2</th>\n",
       "      <td>13.16</td>\n",
       "      <td>2.36</td>\n",
       "      <td>2.67</td>\n",
       "      <td>18.6</td>\n",
       "      <td>101</td>\n",
       "      <td>2.80</td>\n",
       "      <td>3.24</td>\n",
       "      <td>0.30</td>\n",
       "      <td>2.81</td>\n",
       "      <td>5.68</td>\n",
       "      <td>1.03</td>\n",
       "      <td>3.17</td>\n",
       "      <td>1185</td>\n",
       "      <td>1</td>\n",
       "    </tr>\n",
       "    <tr>\n",
       "      <th>3</th>\n",
       "      <td>14.37</td>\n",
       "      <td>1.95</td>\n",
       "      <td>2.50</td>\n",
       "      <td>16.8</td>\n",
       "      <td>113</td>\n",
       "      <td>3.85</td>\n",
       "      <td>3.49</td>\n",
       "      <td>0.24</td>\n",
       "      <td>2.18</td>\n",
       "      <td>7.80</td>\n",
       "      <td>0.86</td>\n",
       "      <td>3.45</td>\n",
       "      <td>1480</td>\n",
       "      <td>1</td>\n",
       "    </tr>\n",
       "    <tr>\n",
       "      <th>4</th>\n",
       "      <td>13.24</td>\n",
       "      <td>2.59</td>\n",
       "      <td>2.87</td>\n",
       "      <td>21.0</td>\n",
       "      <td>118</td>\n",
       "      <td>2.80</td>\n",
       "      <td>2.69</td>\n",
       "      <td>0.39</td>\n",
       "      <td>1.82</td>\n",
       "      <td>4.32</td>\n",
       "      <td>1.04</td>\n",
       "      <td>2.93</td>\n",
       "      <td>735</td>\n",
       "      <td>1</td>\n",
       "    </tr>\n",
       "  </tbody>\n",
       "</table>\n",
       "</div>"
      ],
      "text/plain": [
       "   Alcohol  Malic_Acid   Ash  Ash_Alcanity  Magnesium  Total_Phenols  \\\n",
       "0    14.23        1.71  2.43          15.6        127           2.80   \n",
       "1    13.20        1.78  2.14          11.2        100           2.65   \n",
       "2    13.16        2.36  2.67          18.6        101           2.80   \n",
       "3    14.37        1.95  2.50          16.8        113           3.85   \n",
       "4    13.24        2.59  2.87          21.0        118           2.80   \n",
       "\n",
       "   Flavanoids  Nonflavanoid_Phenols  Proanthocyanins  Color_Intensity   Hue  \\\n",
       "0        3.06                  0.28             2.29             5.64  1.04   \n",
       "1        2.76                  0.26             1.28             4.38  1.05   \n",
       "2        3.24                  0.30             2.81             5.68  1.03   \n",
       "3        3.49                  0.24             2.18             7.80  0.86   \n",
       "4        2.69                  0.39             1.82             4.32  1.04   \n",
       "\n",
       "   OD280  Proline  Customer_Segment  \n",
       "0   3.92     1065                 1  \n",
       "1   3.40     1050                 1  \n",
       "2   3.17     1185                 1  \n",
       "3   3.45     1480                 1  \n",
       "4   2.93      735                 1  "
      ]
     },
     "execution_count": 5,
     "metadata": {},
     "output_type": "execute_result"
    }
   ],
   "source": [
    "# loading the dataset\n",
    "wine_data = pd.read_csv(r\"C:\\Users\\Michal\\Documents\\GitHub\\StatisticsProjectGroupH\\Project2\\data\\wines_properties.csv\", header=0 , skiprows=0)\n",
    "wine_data.head()"
   ]
  },
  {
   "cell_type": "code",
   "execution_count": 6,
   "metadata": {},
   "outputs": [],
   "source": [
    "# creating dummies for binary customer segment column\n",
    "dummies = pd.get_dummies(wine_data[\"Customer_Segment\"], prefix = \"Customer_Segment\")"
   ]
  },
  {
   "cell_type": "code",
   "execution_count": 7,
   "metadata": {},
   "outputs": [],
   "source": [
    "# joining the datasets\n",
    "wine_data = wine_data.join(dummies.loc[:,\"Customer_Segment_2\":])"
   ]
  },
  {
   "cell_type": "code",
   "execution_count": 8,
   "metadata": {},
   "outputs": [
    {
     "data": {
      "text/html": [
       "<div>\n",
       "<style scoped>\n",
       "    .dataframe tbody tr th:only-of-type {\n",
       "        vertical-align: middle;\n",
       "    }\n",
       "\n",
       "    .dataframe tbody tr th {\n",
       "        vertical-align: top;\n",
       "    }\n",
       "\n",
       "    .dataframe thead th {\n",
       "        text-align: right;\n",
       "    }\n",
       "</style>\n",
       "<table border=\"1\" class=\"dataframe\">\n",
       "  <thead>\n",
       "    <tr style=\"text-align: right;\">\n",
       "      <th></th>\n",
       "      <th>Alcohol</th>\n",
       "      <th>Malic_Acid</th>\n",
       "      <th>Ash</th>\n",
       "      <th>Ash_Alcanity</th>\n",
       "      <th>Magnesium</th>\n",
       "      <th>Total_Phenols</th>\n",
       "      <th>Flavanoids</th>\n",
       "      <th>Nonflavanoid_Phenols</th>\n",
       "      <th>Proanthocyanins</th>\n",
       "      <th>Color_Intensity</th>\n",
       "      <th>Hue</th>\n",
       "      <th>OD280</th>\n",
       "      <th>Proline</th>\n",
       "      <th>Customer_Segment_2</th>\n",
       "      <th>Customer_Segment_3</th>\n",
       "    </tr>\n",
       "  </thead>\n",
       "  <tbody>\n",
       "    <tr>\n",
       "      <th>0</th>\n",
       "      <td>14.23</td>\n",
       "      <td>1.71</td>\n",
       "      <td>2.43</td>\n",
       "      <td>15.6</td>\n",
       "      <td>127</td>\n",
       "      <td>2.80</td>\n",
       "      <td>3.06</td>\n",
       "      <td>0.28</td>\n",
       "      <td>2.29</td>\n",
       "      <td>5.64</td>\n",
       "      <td>1.04</td>\n",
       "      <td>3.92</td>\n",
       "      <td>1065</td>\n",
       "      <td>0</td>\n",
       "      <td>0</td>\n",
       "    </tr>\n",
       "    <tr>\n",
       "      <th>1</th>\n",
       "      <td>13.20</td>\n",
       "      <td>1.78</td>\n",
       "      <td>2.14</td>\n",
       "      <td>11.2</td>\n",
       "      <td>100</td>\n",
       "      <td>2.65</td>\n",
       "      <td>2.76</td>\n",
       "      <td>0.26</td>\n",
       "      <td>1.28</td>\n",
       "      <td>4.38</td>\n",
       "      <td>1.05</td>\n",
       "      <td>3.40</td>\n",
       "      <td>1050</td>\n",
       "      <td>0</td>\n",
       "      <td>0</td>\n",
       "    </tr>\n",
       "    <tr>\n",
       "      <th>2</th>\n",
       "      <td>13.16</td>\n",
       "      <td>2.36</td>\n",
       "      <td>2.67</td>\n",
       "      <td>18.6</td>\n",
       "      <td>101</td>\n",
       "      <td>2.80</td>\n",
       "      <td>3.24</td>\n",
       "      <td>0.30</td>\n",
       "      <td>2.81</td>\n",
       "      <td>5.68</td>\n",
       "      <td>1.03</td>\n",
       "      <td>3.17</td>\n",
       "      <td>1185</td>\n",
       "      <td>0</td>\n",
       "      <td>0</td>\n",
       "    </tr>\n",
       "    <tr>\n",
       "      <th>3</th>\n",
       "      <td>14.37</td>\n",
       "      <td>1.95</td>\n",
       "      <td>2.50</td>\n",
       "      <td>16.8</td>\n",
       "      <td>113</td>\n",
       "      <td>3.85</td>\n",
       "      <td>3.49</td>\n",
       "      <td>0.24</td>\n",
       "      <td>2.18</td>\n",
       "      <td>7.80</td>\n",
       "      <td>0.86</td>\n",
       "      <td>3.45</td>\n",
       "      <td>1480</td>\n",
       "      <td>0</td>\n",
       "      <td>0</td>\n",
       "    </tr>\n",
       "    <tr>\n",
       "      <th>4</th>\n",
       "      <td>13.24</td>\n",
       "      <td>2.59</td>\n",
       "      <td>2.87</td>\n",
       "      <td>21.0</td>\n",
       "      <td>118</td>\n",
       "      <td>2.80</td>\n",
       "      <td>2.69</td>\n",
       "      <td>0.39</td>\n",
       "      <td>1.82</td>\n",
       "      <td>4.32</td>\n",
       "      <td>1.04</td>\n",
       "      <td>2.93</td>\n",
       "      <td>735</td>\n",
       "      <td>0</td>\n",
       "      <td>0</td>\n",
       "    </tr>\n",
       "  </tbody>\n",
       "</table>\n",
       "</div>"
      ],
      "text/plain": [
       "   Alcohol  Malic_Acid   Ash  Ash_Alcanity  Magnesium  Total_Phenols  \\\n",
       "0    14.23        1.71  2.43          15.6        127           2.80   \n",
       "1    13.20        1.78  2.14          11.2        100           2.65   \n",
       "2    13.16        2.36  2.67          18.6        101           2.80   \n",
       "3    14.37        1.95  2.50          16.8        113           3.85   \n",
       "4    13.24        2.59  2.87          21.0        118           2.80   \n",
       "\n",
       "   Flavanoids  Nonflavanoid_Phenols  Proanthocyanins  Color_Intensity   Hue  \\\n",
       "0        3.06                  0.28             2.29             5.64  1.04   \n",
       "1        2.76                  0.26             1.28             4.38  1.05   \n",
       "2        3.24                  0.30             2.81             5.68  1.03   \n",
       "3        3.49                  0.24             2.18             7.80  0.86   \n",
       "4        2.69                  0.39             1.82             4.32  1.04   \n",
       "\n",
       "   OD280  Proline  Customer_Segment_2  Customer_Segment_3  \n",
       "0   3.92     1065                   0                   0  \n",
       "1   3.40     1050                   0                   0  \n",
       "2   3.17     1185                   0                   0  \n",
       "3   3.45     1480                   0                   0  \n",
       "4   2.93      735                   0                   0  "
      ]
     },
     "execution_count": 8,
     "metadata": {},
     "output_type": "execute_result"
    }
   ],
   "source": [
    "# dropping the original column\n",
    "wine_data = wine_data.drop(\"Customer_Segment\", axis = 1)\n",
    "wine_data.head()"
   ]
  },
  {
   "cell_type": "code",
   "execution_count": 9,
   "metadata": {},
   "outputs": [],
   "source": [
    "# Preparation of data for the model\n",
    "Y = wine_data[\"Alcohol\"]\n",
    "X = wine_data.loc[:,\"Malic_Acid\":]\n",
    "X = sm.add_constant(X, prepend=False)"
   ]
  },
  {
   "cell_type": "code",
   "execution_count": 10,
   "metadata": {},
   "outputs": [],
   "source": [
    "# fitting of OLS\n",
    "mod = sm.OLS(Y, X).fit()"
   ]
  },
  {
   "cell_type": "code",
   "execution_count": 60,
   "metadata": {
    "scrolled": true
   },
   "outputs": [
    {
     "name": "stdout",
     "output_type": "stream",
     "text": [
      "                            OLS Regression Results                            \n",
      "==============================================================================\n",
      "Dep. Variable:                Alcohol   R-squared:                       0.663\n",
      "Model:                            OLS   Adj. R-squared:                  0.634\n",
      "Method:                 Least Squares   F-statistic:                     22.89\n",
      "Date:                Wed, 12 Dec 2018   Prob (F-statistic):           1.52e-31\n",
      "Time:                        15:01:47   Log-Likelihood:                -118.20\n",
      "No. Observations:                 178   AIC:                             266.4\n",
      "Df Residuals:                     163   BIC:                             314.1\n",
      "Df Model:                          14                                         \n",
      "Covariance Type:            nonrobust                                         \n",
      "========================================================================================\n",
      "                           coef    std err          t      P>|t|      [0.025      0.975]\n",
      "----------------------------------------------------------------------------------------\n",
      "Malic_Acid               0.0745      0.044      1.704      0.090      -0.012       0.161\n",
      "Ash                     -0.2858      0.213     -1.342      0.181      -0.706       0.135\n",
      "Ash_Alcanity             0.0044      0.018      0.242      0.809      -0.031       0.040\n",
      "Magnesium               -0.0001      0.003     -0.033      0.974      -0.006       0.006\n",
      "Total_Phenols            0.0988      0.125      0.793      0.429      -0.147       0.345\n",
      "Flavanoids              -0.0505      0.115     -0.438      0.662      -0.278       0.177\n",
      "Nonflavanoid_Phenols    -0.0373      0.405     -0.092      0.927      -0.837       0.762\n",
      "Proanthocyanins         -0.0671      0.091     -0.736      0.463      -0.247       0.113\n",
      "Color_Intensity          0.1243      0.030      4.142      0.000       0.065       0.184\n",
      "Hue                      0.3522      0.263      1.339      0.183      -0.167       0.872\n",
      "OD280                    0.0308      0.109      0.282      0.778      -0.185       0.246\n",
      "Proline                  0.0002      0.000      0.726      0.469      -0.000       0.001\n",
      "Customer_Segment_2      -1.1190      0.198     -5.657      0.000      -1.510      -0.728\n",
      "Customer_Segment_3      -0.7246      0.298     -2.434      0.016      -1.313      -0.137\n",
      "const                   12.8898      0.652     19.767      0.000      11.602      14.177\n",
      "==============================================================================\n",
      "Omnibus:                        2.420   Durbin-Watson:                   1.967\n",
      "Prob(Omnibus):                  0.298   Jarque-Bera (JB):                1.989\n",
      "Skew:                           0.219   Prob(JB):                        0.370\n",
      "Kurtosis:                       3.277   Cond. No.                     1.54e+04\n",
      "==============================================================================\n",
      "\n",
      "Warnings:\n",
      "[1] Standard Errors assume that the covariance matrix of the errors is correctly specified.\n",
      "[2] The condition number is large, 1.54e+04. This might indicate that there are\n",
      "strong multicollinearity or other numerical problems.\n"
     ]
    }
   ],
   "source": [
    "# Printing summary statistics\n",
    "print(mod.summary())"
   ]
  },
  {
   "cell_type": "markdown",
   "metadata": {},
   "source": [
    "## 2) Logistic Regression"
   ]
  },
  {
   "cell_type": "code",
   "execution_count": 12,
   "metadata": {},
   "outputs": [
    {
     "data": {
      "text/plain": [
       "array([[<matplotlib.axes._subplots.AxesSubplot object at 0x000001A7F1B70F60>]],\n",
       "      dtype=object)"
      ]
     },
     "execution_count": 12,
     "metadata": {},
     "output_type": "execute_result"
    },
    {
     "data": {
      "image/png": "[encoded data removed]",
      "text/plain": [
       "<Figure size 432x288 with 1 Axes>"
      ]
     },
     "metadata": {},
     "output_type": "display_data"
    }
   ],
   "source": [
    "# looking at the distribution of dependent variable\n",
    "wine_data.hist(\"Alcohol\")"
   ]
  },
  {
   "cell_type": "code",
   "execution_count": 13,
   "metadata": {},
   "outputs": [
    {
     "data": {
      "text/html": [
       "<div>\n",
       "<style scoped>\n",
       "    .dataframe tbody tr th:only-of-type {\n",
       "        vertical-align: middle;\n",
       "    }\n",
       "\n",
       "    .dataframe tbody tr th {\n",
       "        vertical-align: top;\n",
       "    }\n",
       "\n",
       "    .dataframe thead th {\n",
       "        text-align: right;\n",
       "    }\n",
       "</style>\n",
       "<table border=\"1\" class=\"dataframe\">\n",
       "  <thead>\n",
       "    <tr style=\"text-align: right;\">\n",
       "      <th></th>\n",
       "      <th>Alcohol</th>\n",
       "      <th>Malic_Acid</th>\n",
       "      <th>Ash</th>\n",
       "      <th>Ash_Alcanity</th>\n",
       "      <th>Magnesium</th>\n",
       "      <th>Total_Phenols</th>\n",
       "      <th>Flavanoids</th>\n",
       "      <th>Nonflavanoid_Phenols</th>\n",
       "      <th>Proanthocyanins</th>\n",
       "      <th>Color_Intensity</th>\n",
       "      <th>Hue</th>\n",
       "      <th>OD280</th>\n",
       "      <th>Proline</th>\n",
       "      <th>Customer_Segment_2</th>\n",
       "      <th>Customer_Segment_3</th>\n",
       "    </tr>\n",
       "  </thead>\n",
       "  <tbody>\n",
       "    <tr>\n",
       "      <th>count</th>\n",
       "      <td>178.000000</td>\n",
       "      <td>178.000000</td>\n",
       "      <td>178.000000</td>\n",
       "      <td>178.000000</td>\n",
       "      <td>178.000000</td>\n",
       "      <td>178.000000</td>\n",
       "      <td>178.000000</td>\n",
       "      <td>178.000000</td>\n",
       "      <td>178.000000</td>\n",
       "      <td>178.000000</td>\n",
       "      <td>178.000000</td>\n",
       "      <td>178.000000</td>\n",
       "      <td>178.000000</td>\n",
       "      <td>178.000000</td>\n",
       "      <td>178.000000</td>\n",
       "    </tr>\n",
       "    <tr>\n",
       "      <th>mean</th>\n",
       "      <td>13.000618</td>\n",
       "      <td>2.336348</td>\n",
       "      <td>2.366517</td>\n",
       "      <td>19.494944</td>\n",
       "      <td>99.741573</td>\n",
       "      <td>2.295112</td>\n",
       "      <td>2.029270</td>\n",
       "      <td>0.361854</td>\n",
       "      <td>1.590899</td>\n",
       "      <td>5.058090</td>\n",
       "      <td>0.957449</td>\n",
       "      <td>2.611685</td>\n",
       "      <td>746.893258</td>\n",
       "      <td>0.398876</td>\n",
       "      <td>0.269663</td>\n",
       "    </tr>\n",
       "    <tr>\n",
       "      <th>std</th>\n",
       "      <td>0.811827</td>\n",
       "      <td>1.117146</td>\n",
       "      <td>0.274344</td>\n",
       "      <td>3.339564</td>\n",
       "      <td>14.282484</td>\n",
       "      <td>0.625851</td>\n",
       "      <td>0.998859</td>\n",
       "      <td>0.124453</td>\n",
       "      <td>0.572359</td>\n",
       "      <td>2.318286</td>\n",
       "      <td>0.228572</td>\n",
       "      <td>0.709990</td>\n",
       "      <td>314.907474</td>\n",
       "      <td>0.491049</td>\n",
       "      <td>0.445037</td>\n",
       "    </tr>\n",
       "    <tr>\n",
       "      <th>min</th>\n",
       "      <td>11.030000</td>\n",
       "      <td>0.740000</td>\n",
       "      <td>1.360000</td>\n",
       "      <td>10.600000</td>\n",
       "      <td>70.000000</td>\n",
       "      <td>0.980000</td>\n",
       "      <td>0.340000</td>\n",
       "      <td>0.130000</td>\n",
       "      <td>0.410000</td>\n",
       "      <td>1.280000</td>\n",
       "      <td>0.480000</td>\n",
       "      <td>1.270000</td>\n",
       "      <td>278.000000</td>\n",
       "      <td>0.000000</td>\n",
       "      <td>0.000000</td>\n",
       "    </tr>\n",
       "    <tr>\n",
       "      <th>25%</th>\n",
       "      <td>12.362500</td>\n",
       "      <td>1.602500</td>\n",
       "      <td>2.210000</td>\n",
       "      <td>17.200000</td>\n",
       "      <td>88.000000</td>\n",
       "      <td>1.742500</td>\n",
       "      <td>1.205000</td>\n",
       "      <td>0.270000</td>\n",
       "      <td>1.250000</td>\n",
       "      <td>3.220000</td>\n",
       "      <td>0.782500</td>\n",
       "      <td>1.937500</td>\n",
       "      <td>500.500000</td>\n",
       "      <td>0.000000</td>\n",
       "      <td>0.000000</td>\n",
       "    </tr>\n",
       "    <tr>\n",
       "      <th>50%</th>\n",
       "      <td>13.050000</td>\n",
       "      <td>1.865000</td>\n",
       "      <td>2.360000</td>\n",
       "      <td>19.500000</td>\n",
       "      <td>98.000000</td>\n",
       "      <td>2.355000</td>\n",
       "      <td>2.135000</td>\n",
       "      <td>0.340000</td>\n",
       "      <td>1.555000</td>\n",
       "      <td>4.690000</td>\n",
       "      <td>0.965000</td>\n",
       "      <td>2.780000</td>\n",
       "      <td>673.500000</td>\n",
       "      <td>0.000000</td>\n",
       "      <td>0.000000</td>\n",
       "    </tr>\n",
       "    <tr>\n",
       "      <th>75%</th>\n",
       "      <td>13.677500</td>\n",
       "      <td>3.082500</td>\n",
       "      <td>2.557500</td>\n",
       "      <td>21.500000</td>\n",
       "      <td>107.000000</td>\n",
       "      <td>2.800000</td>\n",
       "      <td>2.875000</td>\n",
       "      <td>0.437500</td>\n",
       "      <td>1.950000</td>\n",
       "      <td>6.200000</td>\n",
       "      <td>1.120000</td>\n",
       "      <td>3.170000</td>\n",
       "      <td>985.000000</td>\n",
       "      <td>1.000000</td>\n",
       "      <td>1.000000</td>\n",
       "    </tr>\n",
       "    <tr>\n",
       "      <th>max</th>\n",
       "      <td>14.830000</td>\n",
       "      <td>5.800000</td>\n",
       "      <td>3.230000</td>\n",
       "      <td>30.000000</td>\n",
       "      <td>162.000000</td>\n",
       "      <td>3.880000</td>\n",
       "      <td>5.080000</td>\n",
       "      <td>0.660000</td>\n",
       "      <td>3.580000</td>\n",
       "      <td>13.000000</td>\n",
       "      <td>1.710000</td>\n",
       "      <td>4.000000</td>\n",
       "      <td>1680.000000</td>\n",
       "      <td>1.000000</td>\n",
       "      <td>1.000000</td>\n",
       "    </tr>\n",
       "  </tbody>\n",
       "</table>\n",
       "</div>"
      ],
      "text/plain": [
       "          Alcohol  Malic_Acid         Ash  Ash_Alcanity   Magnesium  \\\n",
       "count  178.000000  178.000000  178.000000    178.000000  178.000000   \n",
       "mean    13.000618    2.336348    2.366517     19.494944   99.741573   \n",
       "std      0.811827    1.117146    0.274344      3.339564   14.282484   \n",
       "min     11.030000    0.740000    1.360000     10.600000   70.000000   \n",
       "25%     12.362500    1.602500    2.210000     17.200000   88.000000   \n",
       "50%     13.050000    1.865000    2.360000     19.500000   98.000000   \n",
       "75%     13.677500    3.082500    2.557500     21.500000  107.000000   \n",
       "max     14.830000    5.800000    3.230000     30.000000  162.000000   \n",
       "\n",
       "       Total_Phenols  Flavanoids  Nonflavanoid_Phenols  Proanthocyanins  \\\n",
       "count     178.000000  178.000000            178.000000       178.000000   \n",
       "mean        2.295112    2.029270              0.361854         1.590899   \n",
       "std         0.625851    0.998859              0.124453         0.572359   \n",
       "min         0.980000    0.340000              0.130000         0.410000   \n",
       "25%         1.742500    1.205000              0.270000         1.250000   \n",
       "50%         2.355000    2.135000              0.340000         1.555000   \n",
       "75%         2.800000    2.875000              0.437500         1.950000   \n",
       "max         3.880000    5.080000              0.660000         3.580000   \n",
       "\n",
       "       Color_Intensity         Hue       OD280      Proline  \\\n",
       "count       178.000000  178.000000  178.000000   178.000000   \n",
       "mean          5.058090    0.957449    2.611685   746.893258   \n",
       "std           2.318286    0.228572    0.709990   314.907474   \n",
       "min           1.280000    0.480000    1.270000   278.000000   \n",
       "25%           3.220000    0.782500    1.937500   500.500000   \n",
       "50%           4.690000    0.965000    2.780000   673.500000   \n",
       "75%           6.200000    1.120000    3.170000   985.000000   \n",
       "max          13.000000    1.710000    4.000000  1680.000000   \n",
       "\n",
       "       Customer_Segment_2  Customer_Segment_3  \n",
       "count          178.000000          178.000000  \n",
       "mean             0.398876            0.269663  \n",
       "std              0.491049            0.445037  \n",
       "min              0.000000            0.000000  \n",
       "25%              0.000000            0.000000  \n",
       "50%              0.000000            0.000000  \n",
       "75%              1.000000            1.000000  \n",
       "max              1.000000            1.000000  "
      ]
     },
     "execution_count": 13,
     "metadata": {},
     "output_type": "execute_result"
    }
   ],
   "source": [
    "wine_data.describe()\n"
   ]
  },
  {
   "cell_type": "code",
   "execution_count": 14,
   "metadata": {},
   "outputs": [],
   "source": [
    "# setting arbitrary threshold 13.6\n",
    "wine_data['Strength'] = np.where(wine_data['Alcohol']>=13.6, 1, 0)"
   ]
  },
  {
   "cell_type": "code",
   "execution_count": 15,
   "metadata": {},
   "outputs": [
    {
     "data": {
      "text/html": [
       "<div>\n",
       "<style scoped>\n",
       "    .dataframe tbody tr th:only-of-type {\n",
       "        vertical-align: middle;\n",
       "    }\n",
       "\n",
       "    .dataframe tbody tr th {\n",
       "        vertical-align: top;\n",
       "    }\n",
       "\n",
       "    .dataframe thead th {\n",
       "        text-align: right;\n",
       "    }\n",
       "</style>\n",
       "<table border=\"1\" class=\"dataframe\">\n",
       "  <thead>\n",
       "    <tr style=\"text-align: right;\">\n",
       "      <th></th>\n",
       "      <th>Malic_Acid</th>\n",
       "      <th>Ash</th>\n",
       "      <th>Ash_Alcanity</th>\n",
       "      <th>Magnesium</th>\n",
       "      <th>Total_Phenols</th>\n",
       "      <th>Flavanoids</th>\n",
       "      <th>Nonflavanoid_Phenols</th>\n",
       "      <th>Proanthocyanins</th>\n",
       "      <th>Color_Intensity</th>\n",
       "      <th>Hue</th>\n",
       "      <th>OD280</th>\n",
       "      <th>Proline</th>\n",
       "      <th>Customer_Segment_2</th>\n",
       "      <th>Customer_Segment_3</th>\n",
       "      <th>Strength</th>\n",
       "      <th>intercept</th>\n",
       "    </tr>\n",
       "  </thead>\n",
       "  <tbody>\n",
       "    <tr>\n",
       "      <th>0</th>\n",
       "      <td>1.71</td>\n",
       "      <td>2.43</td>\n",
       "      <td>15.6</td>\n",
       "      <td>127</td>\n",
       "      <td>2.80</td>\n",
       "      <td>3.06</td>\n",
       "      <td>0.28</td>\n",
       "      <td>2.29</td>\n",
       "      <td>5.64</td>\n",
       "      <td>1.04</td>\n",
       "      <td>3.92</td>\n",
       "      <td>1065</td>\n",
       "      <td>0</td>\n",
       "      <td>0</td>\n",
       "      <td>1</td>\n",
       "      <td>1.0</td>\n",
       "    </tr>\n",
       "    <tr>\n",
       "      <th>1</th>\n",
       "      <td>1.78</td>\n",
       "      <td>2.14</td>\n",
       "      <td>11.2</td>\n",
       "      <td>100</td>\n",
       "      <td>2.65</td>\n",
       "      <td>2.76</td>\n",
       "      <td>0.26</td>\n",
       "      <td>1.28</td>\n",
       "      <td>4.38</td>\n",
       "      <td>1.05</td>\n",
       "      <td>3.40</td>\n",
       "      <td>1050</td>\n",
       "      <td>0</td>\n",
       "      <td>0</td>\n",
       "      <td>0</td>\n",
       "      <td>1.0</td>\n",
       "    </tr>\n",
       "    <tr>\n",
       "      <th>2</th>\n",
       "      <td>2.36</td>\n",
       "      <td>2.67</td>\n",
       "      <td>18.6</td>\n",
       "      <td>101</td>\n",
       "      <td>2.80</td>\n",
       "      <td>3.24</td>\n",
       "      <td>0.30</td>\n",
       "      <td>2.81</td>\n",
       "      <td>5.68</td>\n",
       "      <td>1.03</td>\n",
       "      <td>3.17</td>\n",
       "      <td>1185</td>\n",
       "      <td>0</td>\n",
       "      <td>0</td>\n",
       "      <td>0</td>\n",
       "      <td>1.0</td>\n",
       "    </tr>\n",
       "    <tr>\n",
       "      <th>3</th>\n",
       "      <td>1.95</td>\n",
       "      <td>2.50</td>\n",
       "      <td>16.8</td>\n",
       "      <td>113</td>\n",
       "      <td>3.85</td>\n",
       "      <td>3.49</td>\n",
       "      <td>0.24</td>\n",
       "      <td>2.18</td>\n",
       "      <td>7.80</td>\n",
       "      <td>0.86</td>\n",
       "      <td>3.45</td>\n",
       "      <td>1480</td>\n",
       "      <td>0</td>\n",
       "      <td>0</td>\n",
       "      <td>1</td>\n",
       "      <td>1.0</td>\n",
       "    </tr>\n",
       "    <tr>\n",
       "      <th>4</th>\n",
       "      <td>2.59</td>\n",
       "      <td>2.87</td>\n",
       "      <td>21.0</td>\n",
       "      <td>118</td>\n",
       "      <td>2.80</td>\n",
       "      <td>2.69</td>\n",
       "      <td>0.39</td>\n",
       "      <td>1.82</td>\n",
       "      <td>4.32</td>\n",
       "      <td>1.04</td>\n",
       "      <td>2.93</td>\n",
       "      <td>735</td>\n",
       "      <td>0</td>\n",
       "      <td>0</td>\n",
       "      <td>0</td>\n",
       "      <td>1.0</td>\n",
       "    </tr>\n",
       "  </tbody>\n",
       "</table>\n",
       "</div>"
      ],
      "text/plain": [
       "   Malic_Acid   Ash  Ash_Alcanity  Magnesium  Total_Phenols  Flavanoids  \\\n",
       "0        1.71  2.43          15.6        127           2.80        3.06   \n",
       "1        1.78  2.14          11.2        100           2.65        2.76   \n",
       "2        2.36  2.67          18.6        101           2.80        3.24   \n",
       "3        1.95  2.50          16.8        113           3.85        3.49   \n",
       "4        2.59  2.87          21.0        118           2.80        2.69   \n",
       "\n",
       "   Nonflavanoid_Phenols  Proanthocyanins  Color_Intensity   Hue  OD280  \\\n",
       "0                  0.28             2.29             5.64  1.04   3.92   \n",
       "1                  0.26             1.28             4.38  1.05   3.40   \n",
       "2                  0.30             2.81             5.68  1.03   3.17   \n",
       "3                  0.24             2.18             7.80  0.86   3.45   \n",
       "4                  0.39             1.82             4.32  1.04   2.93   \n",
       "\n",
       "   Proline  Customer_Segment_2  Customer_Segment_3  Strength  intercept  \n",
       "0     1065                   0                   0         1        1.0  \n",
       "1     1050                   0                   0         0        1.0  \n",
       "2     1185                   0                   0         0        1.0  \n",
       "3     1480                   0                   0         1        1.0  \n",
       "4      735                   0                   0         0        1.0  "
      ]
     },
     "execution_count": 15,
     "metadata": {},
     "output_type": "execute_result"
    }
   ],
   "source": [
    "# Dropping the original column\n",
    "wine_data['intercept'] = 1.0\n",
    "data = wine_data.drop(\"Alcohol\", axis = 1)\n",
    "data.head()"
   ]
  },
  {
   "cell_type": "code",
   "execution_count": 16,
   "metadata": {},
   "outputs": [
    {
     "data": {
      "text/html": [
       "<div>\n",
       "<style scoped>\n",
       "    .dataframe tbody tr th:only-of-type {\n",
       "        vertical-align: middle;\n",
       "    }\n",
       "\n",
       "    .dataframe tbody tr th {\n",
       "        vertical-align: top;\n",
       "    }\n",
       "\n",
       "    .dataframe thead th {\n",
       "        text-align: right;\n",
       "    }\n",
       "</style>\n",
       "<table border=\"1\" class=\"dataframe\">\n",
       "  <thead>\n",
       "    <tr style=\"text-align: right;\">\n",
       "      <th></th>\n",
       "      <th>Strength</th>\n",
       "      <th>Malic_Acid</th>\n",
       "      <th>Ash</th>\n",
       "      <th>Ash_Alcanity</th>\n",
       "      <th>Magnesium</th>\n",
       "      <th>Total_Phenols</th>\n",
       "      <th>Flavanoids</th>\n",
       "      <th>Nonflavanoid_Phenols</th>\n",
       "      <th>Proanthocyanins</th>\n",
       "      <th>Color_Intensity</th>\n",
       "      <th>Hue</th>\n",
       "      <th>OD280</th>\n",
       "      <th>Proline</th>\n",
       "      <th>intercept</th>\n",
       "      <th>Customer_Segment_2</th>\n",
       "      <th>Customer_Segment_3</th>\n",
       "    </tr>\n",
       "  </thead>\n",
       "  <tbody>\n",
       "    <tr>\n",
       "      <th>0</th>\n",
       "      <td>1</td>\n",
       "      <td>1.71</td>\n",
       "      <td>2.43</td>\n",
       "      <td>15.6</td>\n",
       "      <td>127</td>\n",
       "      <td>2.80</td>\n",
       "      <td>3.06</td>\n",
       "      <td>0.28</td>\n",
       "      <td>2.29</td>\n",
       "      <td>5.64</td>\n",
       "      <td>1.04</td>\n",
       "      <td>3.92</td>\n",
       "      <td>1065</td>\n",
       "      <td>1.0</td>\n",
       "      <td>0</td>\n",
       "      <td>0</td>\n",
       "    </tr>\n",
       "    <tr>\n",
       "      <th>1</th>\n",
       "      <td>0</td>\n",
       "      <td>1.78</td>\n",
       "      <td>2.14</td>\n",
       "      <td>11.2</td>\n",
       "      <td>100</td>\n",
       "      <td>2.65</td>\n",
       "      <td>2.76</td>\n",
       "      <td>0.26</td>\n",
       "      <td>1.28</td>\n",
       "      <td>4.38</td>\n",
       "      <td>1.05</td>\n",
       "      <td>3.40</td>\n",
       "      <td>1050</td>\n",
       "      <td>1.0</td>\n",
       "      <td>0</td>\n",
       "      <td>0</td>\n",
       "    </tr>\n",
       "    <tr>\n",
       "      <th>2</th>\n",
       "      <td>0</td>\n",
       "      <td>2.36</td>\n",
       "      <td>2.67</td>\n",
       "      <td>18.6</td>\n",
       "      <td>101</td>\n",
       "      <td>2.80</td>\n",
       "      <td>3.24</td>\n",
       "      <td>0.30</td>\n",
       "      <td>2.81</td>\n",
       "      <td>5.68</td>\n",
       "      <td>1.03</td>\n",
       "      <td>3.17</td>\n",
       "      <td>1185</td>\n",
       "      <td>1.0</td>\n",
       "      <td>0</td>\n",
       "      <td>0</td>\n",
       "    </tr>\n",
       "    <tr>\n",
       "      <th>3</th>\n",
       "      <td>1</td>\n",
       "      <td>1.95</td>\n",
       "      <td>2.50</td>\n",
       "      <td>16.8</td>\n",
       "      <td>113</td>\n",
       "      <td>3.85</td>\n",
       "      <td>3.49</td>\n",
       "      <td>0.24</td>\n",
       "      <td>2.18</td>\n",
       "      <td>7.80</td>\n",
       "      <td>0.86</td>\n",
       "      <td>3.45</td>\n",
       "      <td>1480</td>\n",
       "      <td>1.0</td>\n",
       "      <td>0</td>\n",
       "      <td>0</td>\n",
       "    </tr>\n",
       "    <tr>\n",
       "      <th>4</th>\n",
       "      <td>0</td>\n",
       "      <td>2.59</td>\n",
       "      <td>2.87</td>\n",
       "      <td>21.0</td>\n",
       "      <td>118</td>\n",
       "      <td>2.80</td>\n",
       "      <td>2.69</td>\n",
       "      <td>0.39</td>\n",
       "      <td>1.82</td>\n",
       "      <td>4.32</td>\n",
       "      <td>1.04</td>\n",
       "      <td>2.93</td>\n",
       "      <td>735</td>\n",
       "      <td>1.0</td>\n",
       "      <td>0</td>\n",
       "      <td>0</td>\n",
       "    </tr>\n",
       "  </tbody>\n",
       "</table>\n",
       "</div>"
      ],
      "text/plain": [
       "   Strength  Malic_Acid   Ash  Ash_Alcanity  Magnesium  Total_Phenols  \\\n",
       "0         1        1.71  2.43          15.6        127           2.80   \n",
       "1         0        1.78  2.14          11.2        100           2.65   \n",
       "2         0        2.36  2.67          18.6        101           2.80   \n",
       "3         1        1.95  2.50          16.8        113           3.85   \n",
       "4         0        2.59  2.87          21.0        118           2.80   \n",
       "\n",
       "   Flavanoids  Nonflavanoid_Phenols  Proanthocyanins  Color_Intensity   Hue  \\\n",
       "0        3.06                  0.28             2.29             5.64  1.04   \n",
       "1        2.76                  0.26             1.28             4.38  1.05   \n",
       "2        3.24                  0.30             2.81             5.68  1.03   \n",
       "3        3.49                  0.24             2.18             7.80  0.86   \n",
       "4        2.69                  0.39             1.82             4.32  1.04   \n",
       "\n",
       "   OD280  Proline  intercept  Customer_Segment_2  Customer_Segment_3  \n",
       "0   3.92     1065        1.0                   0                   0  \n",
       "1   3.40     1050        1.0                   0                   0  \n",
       "2   3.17     1185        1.0                   0                   0  \n",
       "3   3.45     1480        1.0                   0                   0  \n",
       "4   2.93      735        1.0                   0                   0  "
      ]
     },
     "execution_count": 16,
     "metadata": {},
     "output_type": "execute_result"
    }
   ],
   "source": [
    "# Preparation of data for fitting\n",
    "current_var = wine_data.columns.tolist()\n",
    "logistic_data =['Strength',\n",
    " 'Malic_Acid',\n",
    " 'Ash',\n",
    " 'Ash_Alcanity',\n",
    " 'Magnesium',\n",
    " 'Total_Phenols',\n",
    " 'Flavanoids',\n",
    " 'Nonflavanoid_Phenols',\n",
    " 'Proanthocyanins',\n",
    " 'Color_Intensity',\n",
    " 'Hue',\n",
    " 'OD280',\n",
    " 'Proline',\n",
    " 'intercept',\n",
    " 'Customer_Segment_2',\n",
    " 'Customer_Segment_3']\n",
    "data = data[logistic_data]\n",
    "data.head()"
   ]
  },
  {
   "cell_type": "code",
   "execution_count": 17,
   "metadata": {},
   "outputs": [
    {
     "data": {
      "text/plain": [
       "Index(['Malic_Acid', 'Ash', 'Ash_Alcanity', 'Magnesium', 'Total_Phenols',\n",
       "       'Flavanoids', 'Nonflavanoid_Phenols', 'Proanthocyanins',\n",
       "       'Color_Intensity', 'Hue', 'OD280', 'Proline', 'intercept',\n",
       "       'Customer_Segment_2', 'Customer_Segment_3'],\n",
       "      dtype='object')"
      ]
     },
     "execution_count": 17,
     "metadata": {},
     "output_type": "execute_result"
    }
   ],
   "source": [
    "# Printing names of columns for further usage\n",
    "ind_var = data.columns[1:17]\n",
    "ind_var"
   ]
  },
  {
   "cell_type": "code",
   "execution_count": 18,
   "metadata": {},
   "outputs": [],
   "source": [
    "# Fitting the regression\n",
    "logit = sm.Logit(data[\"Strength\"], data[ind_var])"
   ]
  },
  {
   "cell_type": "code",
   "execution_count": 19,
   "metadata": {},
   "outputs": [
    {
     "name": "stdout",
     "output_type": "stream",
     "text": [
      "Optimization terminated successfully.\n",
      "         Current function value: 0.318429\n",
      "         Iterations 8\n"
     ]
    }
   ],
   "source": [
    "result = logit.fit()"
   ]
  },
  {
   "cell_type": "code",
   "execution_count": 20,
   "metadata": {},
   "outputs": [
    {
     "data": {
      "text/html": [
       "<table class=\"simpletable\">\n",
       "<tr>\n",
       "        <td>Model:</td>              <td>Logit</td>      <td>Pseudo R-squared:</td>    <td>0.459</td>  \n",
       "</tr>\n",
       "<tr>\n",
       "  <td>Dependent Variable:</td>     <td>Strength</td>           <td>AIC:</td>         <td>143.3607</td> \n",
       "</tr>\n",
       "<tr>\n",
       "         <td>Date:</td>        <td>2018-12-12 13:42</td>       <td>BIC:</td>         <td>191.0875</td> \n",
       "</tr>\n",
       "<tr>\n",
       "   <td>No. Observations:</td>         <td>178</td>        <td>Log-Likelihood:</td>    <td>-56.680</td> \n",
       "</tr>\n",
       "<tr>\n",
       "       <td>Df Model:</td>             <td>14</td>            <td>LL-Null:</td>        <td>-104.74</td> \n",
       "</tr>\n",
       "<tr>\n",
       "     <td>Df Residuals:</td>           <td>163</td>         <td>LLR p-value:</td>    <td>2.6115e-14</td>\n",
       "</tr>\n",
       "<tr>\n",
       "      <td>Converged:</td>           <td>1.0000</td>           <td>Scale:</td>         <td>1.0000</td>  \n",
       "</tr>\n",
       "<tr>\n",
       "    <td>No. Iterations:</td>        <td>8.0000</td>              <td></td>               <td></td>     \n",
       "</tr>\n",
       "</table>\n",
       "<table class=\"simpletable\">\n",
       "<tr>\n",
       "            <td></td>             <th>Coef.</th>  <th>Std.Err.</th>    <th>z</th>     <th>P>|z|</th>  <th>[0.025</th>  <th>0.975]</th> \n",
       "</tr>\n",
       "<tr>\n",
       "  <th>Malic_Acid</th>            <td>0.7963</td>   <td>0.3299</td>  <td>2.4139</td>  <td>0.0158</td>  <td>0.1497</td>  <td>1.4429</td> \n",
       "</tr>\n",
       "<tr>\n",
       "  <th>Ash</th>                   <td>-0.4046</td>  <td>1.4830</td>  <td>-0.2728</td> <td>0.7850</td>  <td>-3.3111</td> <td>2.5020</td> \n",
       "</tr>\n",
       "<tr>\n",
       "  <th>Ash_Alcanity</th>          <td>-0.1211</td>  <td>0.1261</td>  <td>-0.9605</td> <td>0.3368</td>  <td>-0.3683</td> <td>0.1260</td> \n",
       "</tr>\n",
       "<tr>\n",
       "  <th>Magnesium</th>             <td>-0.0174</td>  <td>0.0246</td>  <td>-0.7090</td> <td>0.4783</td>  <td>-0.0655</td> <td>0.0307</td> \n",
       "</tr>\n",
       "<tr>\n",
       "  <th>Total_Phenols</th>         <td>1.7637</td>   <td>1.0456</td>  <td>1.6868</td>  <td>0.0916</td>  <td>-0.2856</td> <td>3.8130</td> \n",
       "</tr>\n",
       "<tr>\n",
       "  <th>Flavanoids</th>            <td>0.1078</td>   <td>1.0286</td>  <td>0.1048</td>  <td>0.9165</td>  <td>-1.9081</td> <td>2.1237</td> \n",
       "</tr>\n",
       "<tr>\n",
       "  <th>Nonflavanoid_Phenols</th>  <td>0.5048</td>   <td>3.2619</td>  <td>0.1548</td>  <td>0.8770</td>  <td>-5.8884</td> <td>6.8980</td> \n",
       "</tr>\n",
       "<tr>\n",
       "  <th>Proanthocyanins</th>       <td>-1.2858</td>  <td>0.8099</td>  <td>-1.5876</td> <td>0.1124</td>  <td>-2.8731</td> <td>0.3016</td> \n",
       "</tr>\n",
       "<tr>\n",
       "  <th>Color_Intensity</th>       <td>0.7868</td>   <td>0.2686</td>  <td>2.9289</td>  <td>0.0034</td>  <td>0.2603</td>  <td>1.3133</td> \n",
       "</tr>\n",
       "<tr>\n",
       "  <th>Hue</th>                   <td>8.5526</td>   <td>2.6106</td>  <td>3.2761</td>  <td>0.0011</td>  <td>3.4359</td>  <td>13.6692</td>\n",
       "</tr>\n",
       "<tr>\n",
       "  <th>OD280</th>                 <td>1.1993</td>   <td>0.8031</td>  <td>1.4933</td>  <td>0.1354</td>  <td>-0.3748</td> <td>2.7734</td> \n",
       "</tr>\n",
       "<tr>\n",
       "  <th>Proline</th>               <td>0.0006</td>   <td>0.0016</td>  <td>0.3521</td>  <td>0.7247</td>  <td>-0.0026</td> <td>0.0037</td> \n",
       "</tr>\n",
       "<tr>\n",
       "  <th>intercept</th>            <td>-16.7840</td>  <td>5.5746</td>  <td>-3.0108</td> <td>0.0026</td> <td>-27.7099</td> <td>-5.8580</td>\n",
       "</tr>\n",
       "<tr>\n",
       "  <th>Customer_Segment_2</th>    <td>-2.4306</td>  <td>1.5222</td>  <td>-1.5968</td> <td>0.1103</td>  <td>-5.4141</td> <td>0.5528</td> \n",
       "</tr>\n",
       "<tr>\n",
       "  <th>Customer_Segment_3</th>    <td>1.6249</td>   <td>2.4489</td>  <td>0.6635</td>  <td>0.5070</td>  <td>-3.1749</td> <td>6.4246</td> \n",
       "</tr>\n",
       "</table>"
      ],
      "text/plain": [
       "<class 'statsmodels.iolib.summary2.Summary'>\n",
       "\"\"\"\n",
       "                            Results: Logit\n",
       "======================================================================\n",
       "Model:                 Logit             Pseudo R-squared:  0.459     \n",
       "Dependent Variable:    Strength          AIC:               143.3607  \n",
       "Date:                  2018-12-12 13:42  BIC:               191.0875  \n",
       "No. Observations:      178               Log-Likelihood:    -56.680   \n",
       "Df Model:              14                LL-Null:           -104.74   \n",
       "Df Residuals:          163               LLR p-value:       2.6115e-14\n",
       "Converged:             1.0000            Scale:             1.0000    \n",
       "No. Iterations:        8.0000                                         \n",
       "----------------------------------------------------------------------\n",
       "                      Coef.   Std.Err.    z    P>|z|   [0.025   0.975]\n",
       "----------------------------------------------------------------------\n",
       "Malic_Acid             0.7963   0.3299  2.4139 0.0158   0.1497  1.4429\n",
       "Ash                   -0.4046   1.4830 -0.2728 0.7850  -3.3111  2.5020\n",
       "Ash_Alcanity          -0.1211   0.1261 -0.9605 0.3368  -0.3683  0.1260\n",
       "Magnesium             -0.0174   0.0246 -0.7090 0.4783  -0.0655  0.0307\n",
       "Total_Phenols          1.7637   1.0456  1.6868 0.0916  -0.2856  3.8130\n",
       "Flavanoids             0.1078   1.0286  0.1048 0.9165  -1.9081  2.1237\n",
       "Nonflavanoid_Phenols   0.5048   3.2619  0.1548 0.8770  -5.8884  6.8980\n",
       "Proanthocyanins       -1.2858   0.8099 -1.5876 0.1124  -2.8731  0.3016\n",
       "Color_Intensity        0.7868   0.2686  2.9289 0.0034   0.2603  1.3133\n",
       "Hue                    8.5526   2.6106  3.2761 0.0011   3.4359 13.6692\n",
       "OD280                  1.1993   0.8031  1.4933 0.1354  -0.3748  2.7734\n",
       "Proline                0.0006   0.0016  0.3521 0.7247  -0.0026  0.0037\n",
       "intercept            -16.7840   5.5746 -3.0108 0.0026 -27.7099 -5.8580\n",
       "Customer_Segment_2    -2.4306   1.5222 -1.5968 0.1103  -5.4141  0.5528\n",
       "Customer_Segment_3     1.6249   2.4489  0.6635 0.5070  -3.1749  6.4246\n",
       "======================================================================\n",
       "\n",
       "\"\"\""
      ]
     },
     "execution_count": 20,
     "metadata": {},
     "output_type": "execute_result"
    }
   ],
   "source": [
    "result.summary2()"
   ]
  },
  {
   "cell_type": "code",
   "execution_count": 21,
   "metadata": {},
   "outputs": [
    {
     "name": "stderr",
     "output_type": "stream",
     "text": [
      "C:\\Users\\Michal\\Anaconda3\\lib\\site-packages\\matplotlib\\cbook\\deprecation.py:107: MatplotlibDeprecationWarning: Passing one of 'on', 'true', 'off', 'false' as a boolean is deprecated; use an actual boolean (True/False) instead.\n",
      "  warnings.warn(message, mplDeprecation, stacklevel=1)\n"
     ]
    },
    {
     "data": {
      "text/plain": [
       "<matplotlib.axes._subplots.AxesSubplot at 0x1a7f277fc88>"
      ]
     },
     "execution_count": 21,
     "metadata": {},
     "output_type": "execute_result"
    },
    {
     "data": {
      "image/png": "[encoded data removed]",
      "text/plain": [
       "<Figure size 432x288 with 1 Axes>"
      ]
     },
     "metadata": {},
     "output_type": "display_data"
    }
   ],
   "source": [
    "# Plotting evaluation statistics for the performance of the model\n",
    "import scikitplot as skplt\n",
    "\n",
    "pred = np.array([1-result.predict(), result.predict()])\n",
    "#lift curve\n",
    "skplt.metrics.plot_lift_curve(data[\"Strength\"], pred.T)"
   ]
  },
  {
   "cell_type": "code",
   "execution_count": 22,
   "metadata": {},
   "outputs": [
    {
     "data": {
      "text/plain": [
       "<matplotlib.axes._subplots.AxesSubplot at 0x1a7f27f3080>"
      ]
     },
     "execution_count": 22,
     "metadata": {},
     "output_type": "execute_result"
    },
    {
     "data": {
      "image/png": "[encoded data removed]",
      "text/plain": [
       "<Figure size 432x288 with 1 Axes>"
      ]
     },
     "metadata": {},
     "output_type": "display_data"
    }
   ],
   "source": [
    "skplt.metrics.plot_ks_statistic(data['Strength'], pred.T)"
   ]
  },
  {
   "cell_type": "code",
   "execution_count": 27,
   "metadata": {},
   "outputs": [
    {
     "name": "stderr",
     "output_type": "stream",
     "text": [
      "C:\\Users\\Michal\\Anaconda3\\lib\\site-packages\\matplotlib\\cbook\\deprecation.py:107: MatplotlibDeprecationWarning: Passing one of 'on', 'true', 'off', 'false' as a boolean is deprecated; use an actual boolean (True/False) instead.\n",
      "  warnings.warn(message, mplDeprecation, stacklevel=1)\n"
     ]
    },
    {
     "data": {
      "text/plain": [
       "<matplotlib.axes._subplots.AxesSubplot at 0x1a7f2b34a90>"
      ]
     },
     "execution_count": 27,
     "metadata": {},
     "output_type": "execute_result"
    },
    {
     "data": {
      "image/png": "[encoded data removed]",
      "text/plain": [
       "<Figure size 432x288 with 1 Axes>"
      ]
     },
     "metadata": {},
     "output_type": "display_data"
    }
   ],
   "source": [
    "skplt.metrics.plot_cumulative_gain(data['Strength'], pred.T)"
   ]
  },
  {
   "cell_type": "code",
   "execution_count": 23,
   "metadata": {},
   "outputs": [
    {
     "name": "stderr",
     "output_type": "stream",
     "text": [
      "C:\\Users\\Michal\\Anaconda3\\lib\\site-packages\\sklearn\\utils\\deprecation.py:77: DeprecationWarning: Function plot_roc_curve is deprecated; This will be removed in v0.5.0. Please use scikitplot.metrics.plot_roc instead.\n",
      "  warnings.warn(msg, category=DeprecationWarning)\n"
     ]
    },
    {
     "data": {
      "text/plain": [
       "<matplotlib.axes._subplots.AxesSubplot at 0x1a7f27c9240>"
      ]
     },
     "execution_count": 23,
     "metadata": {},
     "output_type": "execute_result"
    },
    {
     "data": {
      "image/png": "[encoded data removed]",
      "text/plain": [
       "<Figure size 432x288 with 1 Axes>"
      ]
     },
     "metadata": {},
     "output_type": "display_data"
    }
   ],
   "source": [
    "skplt.metrics.plot_roc_curve(data['Strength'], pred.T)"
   ]
  },
  {
   "cell_type": "code",
   "execution_count": 25,
   "metadata": {},
   "outputs": [
    {
     "data": {
      "text/plain": [
       "<matplotlib.axes._subplots.AxesSubplot at 0x1a7f2a9aa58>"
      ]
     },
     "execution_count": 25,
     "metadata": {},
     "output_type": "execute_result"
    },
    {
     "data": {
      "image/png": "[encoded data removed]",
      "text/plain": [
       "<Figure size 432x288 with 2 Axes>"
      ]
     },
     "metadata": {},
     "output_type": "display_data"
    }
   ],
   "source": [
    "skplt.metrics.plot_confusion_matrix(data['Strength'], result.predict() > 0.5)"
   ]
  },
  {
   "cell_type": "markdown",
   "metadata": {},
   "source": [
    "## 3) Alternative 1 - PCA from scratch "
   ]
  },
  {
   "cell_type": "code",
   "execution_count": 30,
   "metadata": {},
   "outputs": [],
   "source": [
    "from sklearn.preprocessing import StandardScaler\n",
    "X_s = StandardScaler().fit_transform(data[ind_var])"
   ]
  },
  {
   "cell_type": "code",
   "execution_count": 31,
   "metadata": {},
   "outputs": [],
   "source": [
    "# Calculating necessary mean of Xs\n",
    "mean_vector = np.mean(X_s, axis = 0)"
   ]
  },
  {
   "cell_type": "code",
   "execution_count": 32,
   "metadata": {},
   "outputs": [],
   "source": [
    "N = X_s.shape[0]"
   ]
  },
  {
   "cell_type": "code",
   "execution_count": 33,
   "metadata": {},
   "outputs": [],
   "source": [
    "# Creating covariance matrix\n",
    "covariance_matrix = np.cov(X_s.T)"
   ]
  },
  {
   "cell_type": "code",
   "execution_count": 34,
   "metadata": {},
   "outputs": [],
   "source": [
    "# Extracting eigen vectors and values\n",
    "eigen_values, eigen_vectors = np.linalg.eig(covariance_matrix)"
   ]
  },
  {
   "cell_type": "code",
   "execution_count": 35,
   "metadata": {},
   "outputs": [],
   "source": [
    "u, s, v = np.linalg.svd(X_s.T)"
   ]
  },
  {
   "cell_type": "code",
   "execution_count": 36,
   "metadata": {},
   "outputs": [
    {
     "data": {
      "text/plain": [
       "14.079096045197758"
      ]
     },
     "execution_count": 36,
     "metadata": {},
     "output_type": "execute_result"
    }
   ],
   "source": [
    "# Calculating the total number of eigen vectors\n",
    "tot_eig_vals = sum(eigen_values)\n",
    "tot_eig_vals"
   ]
  },
  {
   "cell_type": "code",
   "execution_count": 37,
   "metadata": {},
   "outputs": [],
   "source": [
    "sorted_eigenvalues = sorted(eigen_values, reverse=True)"
   ]
  },
  {
   "cell_type": "code",
   "execution_count": 38,
   "metadata": {},
   "outputs": [
    {
     "data": {
      "text/plain": [
       "[38.43197501268593,\n",
       " 20.40738494015484,\n",
       " 10.272104553461453,\n",
       " 6.592361275979068,\n",
       " 5.911230407366381,\n",
       " 4.7016928711750925,\n",
       " 3.996926077815794,\n",
       " 2.419527090378865,\n",
       " 1.895223449931948,\n",
       " 1.6740948284051018,\n",
       " 1.4188357317933724,\n",
       " 1.2455528453305773,\n",
       " 0.71292274745292,\n",
       " 0.3201681680686389,\n",
       " 0.0]"
      ]
     },
     "execution_count": 38,
     "metadata": {},
     "output_type": "execute_result"
    }
   ],
   "source": [
    "# Calculating the explained variance\n",
    "variance_explained = [ (i / tot_eig_vals)*100 for i in sorted_eigenvalues ]\n",
    "variance_explained"
   ]
  },
  {
   "cell_type": "code",
   "execution_count": 39,
   "metadata": {},
   "outputs": [
    {
     "data": {
      "image/png": "[encoded data removed]",
      "text/plain": [
       "<Figure size 432x288 with 1 Axes>"
      ]
     },
     "metadata": {},
     "output_type": "display_data"
    }
   ],
   "source": [
    "# Plotting number of components against the explained variance\n",
    "plt.plot(np.cumsum(variance_explained))\n",
    "plt.xlabel('number of components')\n",
    "plt.ylabel('cumulative explained variance');"
   ]
  },
  {
   "cell_type": "markdown",
   "metadata": {},
   "source": [
    "## 3) Alternative 2 - Skitlearn decomposition"
   ]
  },
  {
   "cell_type": "code",
   "execution_count": 40,
   "metadata": {},
   "outputs": [
    {
     "data": {
      "text/plain": [
       "Index(['Malic_Acid', 'Ash', 'Ash_Alcanity', 'Magnesium', 'Total_Phenols',\n",
       "       'Flavanoids', 'Nonflavanoid_Phenols', 'Proanthocyanins',\n",
       "       'Color_Intensity', 'Hue', 'OD280', 'Proline', 'intercept',\n",
       "       'Customer_Segment_2', 'Customer_Segment_3'],\n",
       "      dtype='object')"
      ]
     },
     "execution_count": 40,
     "metadata": {},
     "output_type": "execute_result"
    }
   ],
   "source": [
    "ind_var"
   ]
  },
  {
   "cell_type": "code",
   "execution_count": 41,
   "metadata": {},
   "outputs": [
    {
     "name": "stdout",
     "output_type": "stream",
     "text": [
      "Optimization terminated successfully.\n",
      "         Current function value: 0.318429\n",
      "         Iterations 8\n"
     ]
    },
    {
     "data": {
      "text/html": [
       "<table class=\"simpletable\">\n",
       "<tr>\n",
       "        <td>Model:</td>              <td>Logit</td>      <td>Pseudo R-squared:</td>    <td>0.459</td>  \n",
       "</tr>\n",
       "<tr>\n",
       "  <td>Dependent Variable:</td>     <td>Strength</td>           <td>AIC:</td>         <td>143.3607</td> \n",
       "</tr>\n",
       "<tr>\n",
       "         <td>Date:</td>        <td>2018-12-12 14:02</td>       <td>BIC:</td>         <td>191.0875</td> \n",
       "</tr>\n",
       "<tr>\n",
       "   <td>No. Observations:</td>         <td>178</td>        <td>Log-Likelihood:</td>    <td>-56.680</td> \n",
       "</tr>\n",
       "<tr>\n",
       "       <td>Df Model:</td>             <td>14</td>            <td>LL-Null:</td>        <td>-104.74</td> \n",
       "</tr>\n",
       "<tr>\n",
       "     <td>Df Residuals:</td>           <td>163</td>         <td>LLR p-value:</td>    <td>2.6115e-14</td>\n",
       "</tr>\n",
       "<tr>\n",
       "      <td>Converged:</td>           <td>1.0000</td>           <td>Scale:</td>         <td>1.0000</td>  \n",
       "</tr>\n",
       "<tr>\n",
       "    <td>No. Iterations:</td>        <td>8.0000</td>              <td></td>               <td></td>     \n",
       "</tr>\n",
       "</table>\n",
       "<table class=\"simpletable\">\n",
       "<tr>\n",
       "            <td></td>             <th>Coef.</th>  <th>Std.Err.</th>    <th>z</th>     <th>P>|z|</th>  <th>[0.025</th>  <th>0.975]</th> \n",
       "</tr>\n",
       "<tr>\n",
       "  <th>Malic_Acid</th>            <td>0.7963</td>   <td>0.3299</td>  <td>2.4139</td>  <td>0.0158</td>  <td>0.1497</td>  <td>1.4429</td> \n",
       "</tr>\n",
       "<tr>\n",
       "  <th>Ash</th>                   <td>-0.4046</td>  <td>1.4830</td>  <td>-0.2728</td> <td>0.7850</td>  <td>-3.3111</td> <td>2.5020</td> \n",
       "</tr>\n",
       "<tr>\n",
       "  <th>Ash_Alcanity</th>          <td>-0.1211</td>  <td>0.1261</td>  <td>-0.9605</td> <td>0.3368</td>  <td>-0.3683</td> <td>0.1260</td> \n",
       "</tr>\n",
       "<tr>\n",
       "  <th>Magnesium</th>             <td>-0.0174</td>  <td>0.0246</td>  <td>-0.7090</td> <td>0.4783</td>  <td>-0.0655</td> <td>0.0307</td> \n",
       "</tr>\n",
       "<tr>\n",
       "  <th>Total_Phenols</th>         <td>1.7637</td>   <td>1.0456</td>  <td>1.6868</td>  <td>0.0916</td>  <td>-0.2856</td> <td>3.8130</td> \n",
       "</tr>\n",
       "<tr>\n",
       "  <th>Flavanoids</th>            <td>0.1078</td>   <td>1.0286</td>  <td>0.1048</td>  <td>0.9165</td>  <td>-1.9081</td> <td>2.1237</td> \n",
       "</tr>\n",
       "<tr>\n",
       "  <th>Nonflavanoid_Phenols</th>  <td>0.5048</td>   <td>3.2619</td>  <td>0.1548</td>  <td>0.8770</td>  <td>-5.8884</td> <td>6.8980</td> \n",
       "</tr>\n",
       "<tr>\n",
       "  <th>Proanthocyanins</th>       <td>-1.2858</td>  <td>0.8099</td>  <td>-1.5876</td> <td>0.1124</td>  <td>-2.8731</td> <td>0.3016</td> \n",
       "</tr>\n",
       "<tr>\n",
       "  <th>Color_Intensity</th>       <td>0.7868</td>   <td>0.2686</td>  <td>2.9289</td>  <td>0.0034</td>  <td>0.2603</td>  <td>1.3133</td> \n",
       "</tr>\n",
       "<tr>\n",
       "  <th>Hue</th>                   <td>8.5526</td>   <td>2.6106</td>  <td>3.2761</td>  <td>0.0011</td>  <td>3.4359</td>  <td>13.6692</td>\n",
       "</tr>\n",
       "<tr>\n",
       "  <th>OD280</th>                 <td>1.1993</td>   <td>0.8031</td>  <td>1.4933</td>  <td>0.1354</td>  <td>-0.3748</td> <td>2.7734</td> \n",
       "</tr>\n",
       "<tr>\n",
       "  <th>Proline</th>               <td>0.0006</td>   <td>0.0016</td>  <td>0.3521</td>  <td>0.7247</td>  <td>-0.0026</td> <td>0.0037</td> \n",
       "</tr>\n",
       "<tr>\n",
       "  <th>intercept</th>            <td>-16.7840</td>  <td>5.5746</td>  <td>-3.0108</td> <td>0.0026</td> <td>-27.7099</td> <td>-5.8580</td>\n",
       "</tr>\n",
       "<tr>\n",
       "  <th>Customer_Segment_2</th>    <td>-2.4306</td>  <td>1.5222</td>  <td>-1.5968</td> <td>0.1103</td>  <td>-5.4141</td> <td>0.5528</td> \n",
       "</tr>\n",
       "<tr>\n",
       "  <th>Customer_Segment_3</th>    <td>1.6249</td>   <td>2.4489</td>  <td>0.6635</td>  <td>0.5070</td>  <td>-3.1749</td> <td>6.4246</td> \n",
       "</tr>\n",
       "</table>"
      ],
      "text/plain": [
       "<class 'statsmodels.iolib.summary2.Summary'>\n",
       "\"\"\"\n",
       "                            Results: Logit\n",
       "======================================================================\n",
       "Model:                 Logit             Pseudo R-squared:  0.459     \n",
       "Dependent Variable:    Strength          AIC:               143.3607  \n",
       "Date:                  2018-12-12 14:02  BIC:               191.0875  \n",
       "No. Observations:      178               Log-Likelihood:    -56.680   \n",
       "Df Model:              14                LL-Null:           -104.74   \n",
       "Df Residuals:          163               LLR p-value:       2.6115e-14\n",
       "Converged:             1.0000            Scale:             1.0000    \n",
       "No. Iterations:        8.0000                                         \n",
       "----------------------------------------------------------------------\n",
       "                      Coef.   Std.Err.    z    P>|z|   [0.025   0.975]\n",
       "----------------------------------------------------------------------\n",
       "Malic_Acid             0.7963   0.3299  2.4139 0.0158   0.1497  1.4429\n",
       "Ash                   -0.4046   1.4830 -0.2728 0.7850  -3.3111  2.5020\n",
       "Ash_Alcanity          -0.1211   0.1261 -0.9605 0.3368  -0.3683  0.1260\n",
       "Magnesium             -0.0174   0.0246 -0.7090 0.4783  -0.0655  0.0307\n",
       "Total_Phenols          1.7637   1.0456  1.6868 0.0916  -0.2856  3.8130\n",
       "Flavanoids             0.1078   1.0286  0.1048 0.9165  -1.9081  2.1237\n",
       "Nonflavanoid_Phenols   0.5048   3.2619  0.1548 0.8770  -5.8884  6.8980\n",
       "Proanthocyanins       -1.2858   0.8099 -1.5876 0.1124  -2.8731  0.3016\n",
       "Color_Intensity        0.7868   0.2686  2.9289 0.0034   0.2603  1.3133\n",
       "Hue                    8.5526   2.6106  3.2761 0.0011   3.4359 13.6692\n",
       "OD280                  1.1993   0.8031  1.4933 0.1354  -0.3748  2.7734\n",
       "Proline                0.0006   0.0016  0.3521 0.7247  -0.0026  0.0037\n",
       "intercept            -16.7840   5.5746 -3.0108 0.0026 -27.7099 -5.8580\n",
       "Customer_Segment_2    -2.4306   1.5222 -1.5968 0.1103  -5.4141  0.5528\n",
       "Customer_Segment_3     1.6249   2.4489  0.6635 0.5070  -3.1749  6.4246\n",
       "======================================================================\n",
       "\n",
       "\"\"\""
      ]
     },
     "execution_count": 41,
     "metadata": {},
     "output_type": "execute_result"
    }
   ],
   "source": [
    "# Performing preimplemented PCA \n",
    "x = StandardScaler().fit_transform(data[ind_var])\n",
    "pca = PCA(0.75)\n",
    "principalComponents = pca.fit_transform(x)\n",
    "principalDf = pd.DataFrame(data = principalComponents)\n",
    "pca_df = pd.concat([principalDf, data[['Strength']]], axis = 1)\n",
    "pca_var = pca_df.columns[0:-1]\n",
    "pca_logit = sm.Logit(pca_df[\"Strength\"], pca_df[pca_var])\n",
    "pca_result = logit.fit()\n",
    "pca_result.summary2()\n"
   ]
  },
  {
   "cell_type": "code",
   "execution_count": 42,
   "metadata": {},
   "outputs": [
    {
     "data": {
      "text/plain": [
       "array([0.38431975, 0.20407385, 0.10272105, 0.06592361])"
      ]
     },
     "execution_count": 42,
     "metadata": {},
     "output_type": "execute_result"
    }
   ],
   "source": [
    "pca.explained_variance_ratio_"
   ]
  },
  {
   "cell_type": "code",
   "execution_count": 50,
   "metadata": {},
   "outputs": [
    {
     "name": "stdout",
     "output_type": "stream",
     "text": [
      "Optimization terminated successfully.\n",
      "         Current function value: 0.541729\n",
      "         Iterations 6\n"
     ]
    },
    {
     "data": {
      "text/html": [
       "<table class=\"simpletable\">\n",
       "<tr>\n",
       "        <td>Model:</td>              <td>Logit</td>      <td>Pseudo R-squared:</td>    <td>0.079</td>  \n",
       "</tr>\n",
       "<tr>\n",
       "  <td>Dependent Variable:</td>     <td>Strength</td>           <td>AIC:</td>         <td>200.8556</td> \n",
       "</tr>\n",
       "<tr>\n",
       "         <td>Date:</td>        <td>2018-12-12 14:06</td>       <td>BIC:</td>         <td>213.5827</td> \n",
       "</tr>\n",
       "<tr>\n",
       "   <td>No. Observations:</td>         <td>178</td>        <td>Log-Likelihood:</td>    <td>-96.428</td> \n",
       "</tr>\n",
       "<tr>\n",
       "       <td>Df Model:</td>              <td>3</td>            <td>LL-Null:</td>        <td>-104.74</td> \n",
       "</tr>\n",
       "<tr>\n",
       "     <td>Df Residuals:</td>           <td>174</td>         <td>LLR p-value:</td>    <td>0.00084224</td>\n",
       "</tr>\n",
       "<tr>\n",
       "      <td>Converged:</td>           <td>1.0000</td>           <td>Scale:</td>         <td>1.0000</td>  \n",
       "</tr>\n",
       "<tr>\n",
       "    <td>No. Iterations:</td>        <td>6.0000</td>              <td></td>               <td></td>     \n",
       "</tr>\n",
       "</table>\n",
       "<table class=\"simpletable\">\n",
       "<tr>\n",
       "  <td></td>   <th>Coef.</th>  <th>Std.Err.</th>    <th>z</th>     <th>P>|z|</th> <th>[0.025</th>  <th>0.975]</th> \n",
       "</tr>\n",
       "<tr>\n",
       "  <th>0</th> <td>-0.2583</td>  <td>0.0746</td>  <td>-3.4631</td> <td>0.0005</td> <td>-0.4045</td> <td>-0.1121</td>\n",
       "</tr>\n",
       "<tr>\n",
       "  <th>1</th> <td>-0.6680</td>  <td>0.1163</td>  <td>-5.7448</td> <td>0.0000</td> <td>-0.8958</td> <td>-0.4401</td>\n",
       "</tr>\n",
       "<tr>\n",
       "  <th>2</th> <td>-0.2012</td>  <td>0.1447</td>  <td>-1.3905</td> <td>0.1644</td> <td>-0.4849</td> <td>0.0824</td> \n",
       "</tr>\n",
       "<tr>\n",
       "  <th>3</th> <td>-0.0598</td>  <td>0.1803</td>  <td>-0.3319</td> <td>0.7400</td> <td>-0.4132</td> <td>0.2935</td> \n",
       "</tr>\n",
       "</table>"
      ],
      "text/plain": [
       "<class 'statsmodels.iolib.summary2.Summary'>\n",
       "\"\"\"\n",
       "                         Results: Logit\n",
       "=================================================================\n",
       "Model:              Logit            Pseudo R-squared: 0.079     \n",
       "Dependent Variable: Strength         AIC:              200.8556  \n",
       "Date:               2018-12-12 14:06 BIC:              213.5827  \n",
       "No. Observations:   178              Log-Likelihood:   -96.428   \n",
       "Df Model:           3                LL-Null:          -104.74   \n",
       "Df Residuals:       174              LLR p-value:      0.00084224\n",
       "Converged:          1.0000           Scale:            1.0000    \n",
       "No. Iterations:     6.0000                                       \n",
       "--------------------------------------------------------------------\n",
       "       Coef.     Std.Err.       z       P>|z|      [0.025     0.975]\n",
       "--------------------------------------------------------------------\n",
       "0     -0.2583      0.0746    -3.4631    0.0005    -0.4045    -0.1121\n",
       "1     -0.6680      0.1163    -5.7448    0.0000    -0.8958    -0.4401\n",
       "2     -0.2012      0.1447    -1.3905    0.1644    -0.4849     0.0824\n",
       "3     -0.0598      0.1803    -0.3319    0.7400    -0.4132     0.2935\n",
       "=================================================================\n",
       "\n",
       "\"\"\""
      ]
     },
     "execution_count": 50,
     "metadata": {},
     "output_type": "execute_result"
    }
   ],
   "source": [
    "# Fitting the logistic regression with PCA components\n",
    "pca_logit = sm.Logit(pca_df[\"Strength\"], pca_df[pca_var])\n",
    "pca_result = pca_logit.fit()\n",
    "pca_result.summary2()"
   ]
  },
  {
   "cell_type": "code",
   "execution_count": 51,
   "metadata": {},
   "outputs": [
    {
     "name": "stderr",
     "output_type": "stream",
     "text": [
      "C:\\Users\\Michal\\Anaconda3\\lib\\site-packages\\matplotlib\\cbook\\deprecation.py:107: MatplotlibDeprecationWarning: Passing one of 'on', 'true', 'off', 'false' as a boolean is deprecated; use an actual boolean (True/False) instead.\n",
      "  warnings.warn(message, mplDeprecation, stacklevel=1)\n"
     ]
    },
    {
     "data": {
      "text/plain": [
       "<matplotlib.axes._subplots.AxesSubplot at 0x1a7f2d93f60>"
      ]
     },
     "execution_count": 51,
     "metadata": {},
     "output_type": "execute_result"
    },
    {
     "data": {
      "image/png": "[encoded data removed]",
      "text/plain": [
       "<Figure size 432x288 with 1 Axes>"
      ]
     },
     "metadata": {},
     "output_type": "display_data"
    }
   ],
   "source": [
    "# Plotting the performance characteristics of the model\n",
    "pred2 = np.array([1-pca_result.predict(), pca_result.predict()])\n",
    "skplt.metrics.plot_lift_curve(pca_df[\"Strength\"], pred2.T)"
   ]
  },
  {
   "cell_type": "code",
   "execution_count": 58,
   "metadata": {},
   "outputs": [
    {
     "name": "stderr",
     "output_type": "stream",
     "text": [
      "C:\\Users\\Michal\\Anaconda3\\lib\\site-packages\\matplotlib\\cbook\\deprecation.py:107: MatplotlibDeprecationWarning: Passing one of 'on', 'true', 'off', 'false' as a boolean is deprecated; use an actual boolean (True/False) instead.\n",
      "  warnings.warn(message, mplDeprecation, stacklevel=1)\n"
     ]
    },
    {
     "data": {
      "text/plain": [
       "<matplotlib.axes._subplots.AxesSubplot at 0x1a7f401f5c0>"
      ]
     },
     "execution_count": 58,
     "metadata": {},
     "output_type": "execute_result"
    },
    {
     "data": {
      "image/png": "[encoded data removed]",
      "text/plain": [
       "<Figure size 432x288 with 1 Axes>"
      ]
     },
     "metadata": {},
     "output_type": "display_data"
    }
   ],
   "source": [
    "skplt.metrics.plot_cumulative_gain(pca_df['Strength'], pred2.T)"
   ]
  },
  {
   "cell_type": "code",
   "execution_count": 52,
   "metadata": {},
   "outputs": [
    {
     "data": {
      "text/plain": [
       "<matplotlib.axes._subplots.AxesSubplot at 0x1a7f2c9f198>"
      ]
     },
     "execution_count": 52,
     "metadata": {},
     "output_type": "execute_result"
    },
    {
     "data": {
      "image/png": "[encoded data removed]",
      "text/plain": [
       "<Figure size 432x288 with 1 Axes>"
      ]
     },
     "metadata": {},
     "output_type": "display_data"
    }
   ],
   "source": [
    "skplt.metrics.plot_ks_statistic(pca_df[\"Strength\"], pred2.T)"
   ]
  },
  {
   "cell_type": "code",
   "execution_count": 54,
   "metadata": {},
   "outputs": [
    {
     "name": "stderr",
     "output_type": "stream",
     "text": [
      "C:\\Users\\Michal\\Anaconda3\\lib\\site-packages\\sklearn\\utils\\deprecation.py:77: DeprecationWarning: Function plot_roc_curve is deprecated; This will be removed in v0.5.0. Please use scikitplot.metrics.plot_roc instead.\n",
      "  warnings.warn(msg, category=DeprecationWarning)\n"
     ]
    },
    {
     "data": {
      "text/plain": [
       "<matplotlib.axes._subplots.AxesSubplot at 0x1a7f2ddd320>"
      ]
     },
     "execution_count": 54,
     "metadata": {},
     "output_type": "execute_result"
    },
    {
     "data": {
      "image/png": "[encoded data removed]",
      "text/plain": [
       "<Figure size 432x288 with 1 Axes>"
      ]
     },
     "metadata": {},
     "output_type": "display_data"
    }
   ],
   "source": [
    "skplt.metrics.plot_roc_curve(pca_df[\"Strength\"], pred2.T)"
   ]
  },
  {
   "cell_type": "code",
   "execution_count": 56,
   "metadata": {},
   "outputs": [
    {
     "data": {
      "text/plain": [
       "<matplotlib.axes._subplots.AxesSubplot at 0x1a7f3f8aa90>"
      ]
     },
     "execution_count": 56,
     "metadata": {},
     "output_type": "execute_result"
    },
    {
     "data": {
      "image/png": "[encoded data removed]",
      "text/plain": [
       "<Figure size 432x288 with 2 Axes>"
      ]
     },
     "metadata": {},
     "output_type": "display_data"
    }
   ],
   "source": [
    "skplt.metrics.plot_confusion_matrix(pca_df['Strength'], pca_result.predict() > 0.5)"
   ]
  },
  {
   "cell_type": "code",
   "execution_count": null,
   "metadata": {},
   "outputs": [],
   "source": []
  }
 ],
 "metadata": {
  "kernelspec": {
   "display_name": "Python 3",
   "language": "python",
   "name": "python3"
  },
  "language_info": {
   "codemirror_mode": {
    "name": "ipython",
    "version": 3
   },
   "file_extension": ".py",
   "mimetype": "text/x-python",
   "name": "python",
   "nbconvert_exporter": "python",
   "pygments_lexer": "ipython3",
   "version": "3.6.5"
  }
 },
 "nbformat": 4,
 "nbformat_minor": 2
}
