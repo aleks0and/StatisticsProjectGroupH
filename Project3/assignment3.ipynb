{
 "cells": [
  {
   "cell_type": "code",
   "execution_count": 3,
   "metadata": {},
   "outputs": [],
   "source": [
    "import pandas as pd\n",
    "import numpy as np\n",
    "import matplotlib.pyplot as plt\n",
    "from statsmodels.distributions.empirical_distribution import ECDF\n",
    "import scipy.stats  as stats\n",
    "import random\n",
    "import seaborn as sns\n",
    "import math\n",
    "from scipy.optimize import minimize, show_options\n",
    "import matplotlib.mlab as mlab \n",
    "from numpy import random \n"
   ]
  },
  {
   "cell_type": "code",
   "execution_count": 2,
   "metadata": {},
   "outputs": [],
   "source": [
    "dataset = pd.read_csv(r\"C:\\Users\\Michal\\Documents\\GitHub\\ProbabilityAndStatistics\\Assignment_3\\bigcity.csv\")"
   ]
  },
  {
   "cell_type": "code",
   "execution_count": 3,
   "metadata": {},
   "outputs": [
    {
     "data": {
      "text/html": [
       "<div>\n",
       "<style scoped>\n",
       "    .dataframe tbody tr th:only-of-type {\n",
       "        vertical-align: middle;\n",
       "    }\n",
       "\n",
       "    .dataframe tbody tr th {\n",
       "        vertical-align: top;\n",
       "    }\n",
       "\n",
       "    .dataframe thead th {\n",
       "        text-align: right;\n",
       "    }\n",
       "</style>\n",
       "<table border=\"1\" class=\"dataframe\">\n",
       "  <thead>\n",
       "    <tr style=\"text-align: right;\">\n",
       "      <th></th>\n",
       "      <th>Unnamed: 0</th>\n",
       "      <th>u</th>\n",
       "      <th>x</th>\n",
       "    </tr>\n",
       "  </thead>\n",
       "  <tbody>\n",
       "    <tr>\n",
       "      <th>0</th>\n",
       "      <td>1</td>\n",
       "      <td>138</td>\n",
       "      <td>143</td>\n",
       "    </tr>\n",
       "    <tr>\n",
       "      <th>1</th>\n",
       "      <td>2</td>\n",
       "      <td>93</td>\n",
       "      <td>104</td>\n",
       "    </tr>\n",
       "    <tr>\n",
       "      <th>2</th>\n",
       "      <td>3</td>\n",
       "      <td>61</td>\n",
       "      <td>69</td>\n",
       "    </tr>\n",
       "    <tr>\n",
       "      <th>3</th>\n",
       "      <td>4</td>\n",
       "      <td>179</td>\n",
       "      <td>260</td>\n",
       "    </tr>\n",
       "    <tr>\n",
       "      <th>4</th>\n",
       "      <td>5</td>\n",
       "      <td>48</td>\n",
       "      <td>75</td>\n",
       "    </tr>\n",
       "  </tbody>\n",
       "</table>\n",
       "</div>"
      ],
      "text/plain": [
       "   Unnamed: 0    u    x\n",
       "0           1  138  143\n",
       "1           2   93  104\n",
       "2           3   61   69\n",
       "3           4  179  260\n",
       "4           5   48   75"
      ]
     },
     "execution_count": 3,
     "metadata": {},
     "output_type": "execute_result"
    }
   ],
   "source": [
    "# Data exploration\n",
    "dataset.head()"
   ]
  },
  {
   "cell_type": "code",
   "execution_count": 5,
   "metadata": {},
   "outputs": [
    {
     "data": {
      "text/plain": [
       "(103.14285714285714, 127.79591836734694, 1.2390185991294025)"
      ]
     },
     "execution_count": 5,
     "metadata": {},
     "output_type": "execute_result"
    }
   ],
   "source": [
    "# 1.Excercise - 1. Point\n",
    "u, x = dataset[\"u\"], dataset[\"x\"]\n",
    "\n",
    "# Estimating the E(.) for both samples\n",
    "mean_u = u.mean()\n",
    "mean_x = x.mean()\n",
    "theta = mean_x/mean_u\n",
    "\n",
    "mean_u, mean_x, theta"
   ]
  },
  {
   "cell_type": "code",
   "execution_count": 7,
   "metadata": {},
   "outputs": [
    {
     "data": {
      "image/png": "[encoded data removed]",
      "text/plain": [
       "<Figure size 432x288 with 1 Axes>"
      ]
     },
     "metadata": {
      "needs_background": "light"
     },
     "output_type": "display_data"
    },
    {
     "name": "stdout",
     "output_type": "stream",
     "text": [
      "bias is 0.0018933909644165414\n",
      "standard error is 0.03542458557318678\n"
     ]
    }
   ],
   "source": [
    "# 1.Excercise - 2. Point\n",
    "\n",
    "#Set up array of indices to sample from: inds\n",
    "bs_t_list = []\n",
    "bs_t_diff_sqrt = []\n",
    "\n",
    "def pair_bootstrap(data, function):   \n",
    "    inds = np.arange(len(data))\n",
    "    \n",
    "    u = data[\"u\"]\n",
    "    x = data[\"x\"]\n",
    "      \n",
    "    # Initialize replicates: bs_u, bs_x    \n",
    "    for i in range(10000):\n",
    "    \n",
    "        bs_inds = np.random.choice(inds, size=len(inds))\n",
    "        bs_u, bs_x = function(u[bs_inds]), function(x[bs_inds])\n",
    "        bs_t = bs_x/bs_u\n",
    "        bs_t_list.append(bs_t)\n",
    "        #std\n",
    "        diff_sqrt = (bs_t - theta)**2\n",
    "        bs_t_diff_sqrt.append(diff_sqrt)\n",
    "\n",
    "    return bs_t_list, bs_t_diff_sqrt\n",
    "    \n",
    "pair_bootstrap(data = dataset,function = np.mean)\n",
    "    \n",
    "_ = plt.hist(bs_t_list, bins=30, density=True)\n",
    "_ = plt.xlabel('mean theta')\n",
    "_ = plt.ylabel('PDF')\n",
    "plt.show()\n",
    "\n",
    "bias_t = np.mean(bs_t_list) - theta\n",
    "#standard error is the approx of the standard error of the boostraped values\n",
    "ste = (sum(bs_t_diff_sqrt)/len(bs_t_diff_sqrt))**(1/2)\n",
    "\n",
    "print(\"bias is\", bias_t)\n",
    "print(\"standard error is\", ste)"
   ]
  },
  {
   "cell_type": "code",
   "execution_count": 8,
   "metadata": {},
   "outputs": [
    {
     "name": "stdout",
     "output_type": "stream",
     "text": [
      "[1.18698597 1.3025212 ]\n"
     ]
    }
   ],
   "source": [
    "# 1. Exercise - 3. point\n",
    "#z = stats.norm.ppf(0.90)\n",
    "#(bs_replicates_t - z*np.sqrt((bs_replicates_t * (1 - bs_replicates_t ) / len(bs_replicates_t)) ), \n",
    "#bs_replicates_t + z*np.sqrt((bs_replicates_t * (1 - bs_replicates_t ) / len(bs_replicates_t)) ) )\n",
    "\n",
    "## Compute and print 95% CI for slope\n",
    "print(np.percentile(bs_t_list, [5, 95]))"
   ]
  },
  {
   "cell_type": "code",
   "execution_count": 4,
   "metadata": {},
   "outputs": [],
   "source": [
    "# 2. Exercise - 1. point\n",
    "def inverseFunction(mu, n, a):\n",
    "    u = stats.exponweib.rvs(size = n, a=a, c=mu ,loc = 0, scale = 1)\n",
    "    return mu * (-1 * np.log(1 - a))**(1/u)"
   ]
  },
  {
   "cell_type": "code",
   "execution_count": 6,
   "metadata": {
    "scrolled": true
   },
   "outputs": [
    {
     "data": {
      "text/plain": [
       "(array([347.,  33.,  20.,  25.,  19.,  21.,  14.,  10.,   9.,   2.]),\n",
       " array([0.        , 0.08671485, 0.17342971, 0.26014456, 0.34685942,\n",
       "        0.43357427, 0.52028912, 0.60700398, 0.69371883, 0.78043368,\n",
       "        0.86714854]),\n",
       " <a list of 10 Patch objects>)"
      ]
     },
     "execution_count": 6,
     "metadata": {},
     "output_type": "execute_result"
    },
    {
     "data": {
      "image/png": "[encoded data removed]",
      "text/plain": [
       "<Figure size 432x288 with 1 Axes>"
      ]
     },
     "metadata": {},
     "output_type": "display_data"
    }
   ],
   "source": [
    "# 2. Exercise - 2. point\n",
    "random.seed(40)\n",
    "weibull_theoretical = stats.exponweib.rvs(size = 500, a=0.3, c =1, loc = 0) #here we should use min, because it gives us positive outputs\n",
    "pd.DataFrame(weibull_theoretical).hist()\n",
    "plt.hist(inverseFunction(1, 500, 0.3))"
   ]
  },
  {
   "cell_type": "code",
   "execution_count": 146,
   "metadata": {},
   "outputs": [
    {
     "name": "stdout",
     "output_type": "stream",
     "text": [
      "[0.02250189 2.47194932 0.15211076 0.33564994 1.14525952]\n",
      "[-0.00480919  2.82730718  0.25703222  0.09928851  0.7045492 ]\n",
      "[-2.45777303e-03  2.99933606e+00  2.99812076e-01  9.98261948e-02\n",
      "  1.10086726e-01]\n",
      "[-2.34738556e-03  3.00009462e+00  3.00000000e-01  9.99722362e-02\n",
      "  9.98576195e-02]\n"
     ]
    },
    {
     "name": "stderr",
     "output_type": "stream",
     "text": [
      "D:\\Users\\aleks\\Anaconda3\\lib\\site-packages\\ipykernel_launcher.py:72: MatplotlibDeprecationWarning: scipy.stats.norm.pdf\n",
      "D:\\Users\\aleks\\Anaconda3\\lib\\site-packages\\ipykernel_launcher.py:73: MatplotlibDeprecationWarning: scipy.stats.norm.pdf\n"
     ]
    },
    {
     "data": {
      "image/png": "[encoded data removed]",
      "text/plain": [
       "<Figure size 432x288 with 1 Axes>"
      ]
     },
     "metadata": {
      "needs_background": "light"
     },
     "output_type": "display_data"
    }
   ],
   "source": [
    "#3. Exercise - 1. point\n",
    "\n",
    "import numpy as np\n",
    "from numpy import random \n",
    "from scipy.optimize import minimize, show_options\n",
    "import matplotlib.pyplot as plt \n",
    "import math \n",
    "import matplotlib.mlab as mlab \n",
    "\n",
    "def gaussian(x, mean, dev):\n",
    "    # standard deviation, square root of variance\n",
    "    return 1/math.sqrt(2*math.pi)/dev*math.exp(-(x-mean)**2/2/dev**2)\n",
    "\n",
    "# Generate data \n",
    "N = 10000\n",
    "a = 0.3\n",
    "\n",
    "sample1 = random.normal(0, 0.1, size = int(N*a))\n",
    "sample2 = random.normal(3, 0.1, size = int(N*(1-a)))\n",
    "\n",
    "sample = np.concatenate([sample1, sample2])\n",
    "\n",
    "max_iter = 100 \n",
    "\n",
    "# initial values \n",
    "params = np.array([-1, 1, 0.5, 1, 1])\n",
    "\n",
    "counter = 0 \n",
    "converged = False \n",
    "tol = 0.1\n",
    "\n",
    "plabel1 = np.zeros(sample.shape)\n",
    "plabel2 = np.zeros(sample.shape)\n",
    "\n",
    "while not converged and counter < max_iter:\n",
    "    counter += 1\n",
    "    \n",
    "    mu1, mu2, pi_1, d1, d2 = params\n",
    "    \n",
    "    # Expectation step \n",
    "    for i in range(len(sample)):\n",
    "\n",
    "        cdf1 = gaussian(sample[i], mu1, d1)\n",
    "        cdf2 = gaussian(sample[i], mu2, d2)\n",
    "        \n",
    "        pi_2 = 1 - pi_1\n",
    "        \n",
    "        plabel1[i] = cdf1 * pi_1 / (cdf1 * pi_1 + cdf2 * pi_2)\n",
    "        plabel2[i] = cdf2 * pi_2 / (cdf1 * pi_1 + cdf2 * pi_2)\n",
    "        \n",
    "    # Maximization \n",
    "    mu1 = sum(sample * plabel1)/sum(plabel1)\n",
    "    mu2 = sum(sample * plabel2)/sum(plabel2)\n",
    "    d1 = math.sqrt((sum(plabel1 * ((sample-mu1)**2)))/(sum(plabel1)))\n",
    "    d2 = math.sqrt((sum(plabel2 * ((sample-mu2)**2)))/(sum(plabel2)))\n",
    "    pi_1 = sum(plabel1)/len(sample)\n",
    "    \n",
    "    new_parameters = np.array([mu1, mu2, pi_1, d1, d2])\n",
    "    print(new_parameters)\n",
    "    \n",
    "    # Checking the convergence \n",
    "    if np.max(abs(np.asarray(params) - np.asarray(new_parameters))) < tol:\n",
    "        converged = True\n",
    "    \n",
    "    params = new_parameters\n",
    "    \n",
    "\n",
    "plt.hist(sample, bins = 100, density = True)\n",
    "\n",
    "x = np.linspace(sample.min(), sample.max(), 100)\n",
    "\n",
    "plt.plot(x, mlab.normpdf(x, mu1, 0.1))\n",
    "plt.plot(x, mlab.normpdf(x, mu2, 0.1))\n",
    "\n",
    "plt.show()"
   ]
  },
  {
   "cell_type": "code",
   "execution_count": 147,
   "metadata": {},
   "outputs": [
    {
     "data": {
      "image/png": "[encoded data removed]",
      "text/plain": [
       "<Figure size 432x288 with 1 Axes>"
      ]
     },
     "metadata": {
      "needs_background": "light"
     },
     "output_type": "display_data"
    }
   ],
   "source": [
    "#4. Exercise - 1. point\n",
    "from math import sqrt, pi, cosh, sinh, exp\n",
    "def f(x,d=1.5):\n",
    "        return d/(x*sqrt(2*pi))*cosh(d*np.log(2*x))*exp((-sinh(d*np.log(2*x))**2)/2)\n",
    "    \n",
    "f2 = np.vectorize(f)\n",
    "x = np.arange(0.01, 5, 0.1)\n",
    "plt.plot(x, f2(x, 1.5))\n",
    "plt.show()"
   ]
  },
  {
   "cell_type": "code",
   "execution_count": 148,
   "metadata": {},
   "outputs": [
    {
     "data": {
      "text/plain": [
       "(0, 2)"
      ]
     },
     "execution_count": 148,
     "metadata": {},
     "output_type": "execute_result"
    },
    {
     "data": {
      "image/png": "[encoded data removed]",
      "text/plain": [
       "<Figure size 432x288 with 1 Axes>"
      ]
     },
     "metadata": {},
     "output_type": "display_data"
    }
   ],
   "source": [
    "#4. Exercise - 2. point\n",
    "\n",
    "\n",
    "sns.set()\n",
    "\n",
    "\n",
    "# Envelope \n",
    "def g(x): \n",
    "    out = stats.expon.pdf(x, scale = (1/1.5))\n",
    "    return out\n",
    "\n",
    "\n",
    "range_of_values = np.arange(0.0001, 2, 0.0001) \n",
    "alpha = 1 / max(f2(range_of_values)/g(range_of_values))\n",
    "\n",
    "def AR_simple_alg(iterations):\n",
    "    generated_samples = []\n",
    "    \n",
    "    for i in range(iterations):\n",
    "        y = stats.expon.rvs(scale = (0.66))\n",
    "        u = np.random.uniform(0, 1)\n",
    "        \n",
    "        ratio = f(y)/(g(y) / alpha)\n",
    "        \n",
    "        if u <= ratio:\n",
    "            generated_samples.append(y)\n",
    "            \n",
    "    return generated_samples\n",
    "\n",
    "plt.plot(range_of_values, f2(range_of_values))\n",
    "plt.plot(range_of_values, 1/ alpha * g(range_of_values))\n",
    "plt.xlim(0,2)\n"
   ]
  },
  {
   "cell_type": "code",
   "execution_count": 8,
   "metadata": {},
   "outputs": [],
   "source": [
    "#4. Exercise - 3. point - Generate a sample using your function and, with these data, estimate E(X^2). Using the\n",
    "                          #bootstrap, give a measure of precision of your estimate."
   ]
  },
  {
   "cell_type": "code",
   "execution_count": 149,
   "metadata": {},
   "outputs": [],
   "source": [
    "sample = AR_simple_alg(iterations=100000)\n"
   ]
  },
  {
   "cell_type": "code",
   "execution_count": 150,
   "metadata": {
    "scrolled": false
   },
   "outputs": [
    {
     "name": "stderr",
     "output_type": "stream",
     "text": [
      "D:\\Users\\aleks\\Anaconda3\\lib\\site-packages\\scipy\\stats\\stats.py:1713: FutureWarning: Using a non-tuple sequence for multidimensional indexing is deprecated; use `arr[tuple(seq)]` instead of `arr[seq]`. In the future this will be interpreted as an array index, `arr[np.array(seq)]`, which will result either in an error or a different result.\n",
      "  return np.add.reduce(sorted[indexer] * weights, axis=axis) / sumval\n"
     ]
    },
    {
     "data": {
      "text/plain": [
       "<matplotlib.axes._subplots.AxesSubplot at 0x1d6c308b0f0>"
      ]
     },
     "execution_count": 150,
     "metadata": {},
     "output_type": "execute_result"
    },
    {
     "data": {
      "image/png": "[encoded data removed]",
      "text/plain": [
       "<Figure size 432x288 with 1 Axes>"
      ]
     },
     "metadata": {},
     "output_type": "display_data"
    }
   ],
   "source": [
    "sns.set()\n",
    "sns.distplot(sample)"
   ]
  },
  {
   "cell_type": "code",
   "execution_count": 152,
   "metadata": {},
   "outputs": [
    {
     "data": {
      "text/plain": [
       "52.215999999999994"
      ]
     },
     "execution_count": 152,
     "metadata": {},
     "output_type": "execute_result"
    }
   ],
   "source": [
    "len(sample)/100000 * 100 # observed acceptance ratio "
   ]
  },
  {
   "cell_type": "code",
   "execution_count": 153,
   "metadata": {},
   "outputs": [
    {
     "data": {
      "text/plain": [
       "0.5216551236475129"
      ]
     },
     "execution_count": 153,
     "metadata": {},
     "output_type": "execute_result"
    }
   ],
   "source": [
    "alpha"
   ]
  },
  {
   "cell_type": "code",
   "execution_count": 154,
   "metadata": {},
   "outputs": [
    {
     "data": {
      "text/plain": [
       "0.3042753782321376"
      ]
     },
     "execution_count": 154,
     "metadata": {},
     "output_type": "execute_result"
    }
   ],
   "source": [
    "sample_estimate = np.std(sample)\n",
    "sample_estimate"
   ]
  },
  {
   "cell_type": "code",
   "execution_count": 155,
   "metadata": {},
   "outputs": [],
   "source": [
    "bs_sample = np.random.choice(sample, size = 100)"
   ]
  },
  {
   "cell_type": "code",
   "execution_count": 156,
   "metadata": {},
   "outputs": [],
   "source": [
    "def bootstrap_replicate(data, function):\n",
    "    bs_sample = np.random.choice(data, len(data))\n",
    "    return function(bs_sample)\n",
    "\n",
    "bs_results = np.empty(10000)\n",
    "\n",
    "for i in range(10000):\n",
    "    bs_results[i] = bootstrap_replicate(sample, np.std)"
   ]
  },
  {
   "cell_type": "code",
   "execution_count": 157,
   "metadata": {},
   "outputs": [
    {
     "data": {
      "image/png": "[encoded data removed]",
      "text/plain": [
       "<Figure size 432x288 with 1 Axes>"
      ]
     },
     "metadata": {},
     "output_type": "display_data"
    }
   ],
   "source": [
    "_ = plt.hist(bs_results, bins = 30, density=True)\n",
    "_ = plt.xlabel(\"Acceptance Rejectance\")\n",
    "_ = plt.ylabel(\"Empirical Probability Density Function\")\n",
    "plt.show()"
   ]
  },
  {
   "cell_type": "code",
   "execution_count": null,
   "metadata": {},
   "outputs": [],
   "source": [
    "print(np.percentile(bs_results, [10, 90]))"
   ]
  }
 ],
 "metadata": {
  "kernelspec": {
   "display_name": "Python 3",
   "language": "python",
   "name": "python3"
  },
  "language_info": {
   "codemirror_mode": {
    "name": "ipython",
    "version": 3
   },
   "file_extension": ".py",
   "mimetype": "text/x-python",
   "name": "python",
   "nbconvert_exporter": "python",
   "pygments_lexer": "ipython3",
   "version": "3.6.5"
  }
 },
 "nbformat": 4,
 "nbformat_minor": 2
}
